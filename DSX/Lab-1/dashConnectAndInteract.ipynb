{
    "metadata": {
        "kernelspec": {
            "language": "python", 
            "display_name": "Python 3.5 (Experimental) with Spark 2.1", 
            "name": "python3-spark21"
        }, 
        "language_info": {
            "nbconvert_exporter": "python", 
            "name": "python", 
            "pygments_lexer": "ipython3", 
            "version": "3.5.2", 
            "file_extension": ".py", 
            "codemirror_mode": {
                "version": 3, 
                "name": "ipython"
            }, 
            "mimetype": "text/x-python"
        }
    }, 
    "nbformat": 4, 
    "cells": [
        {
            "metadata": {}, 
            "cell_type": "markdown", 
            "source": "\n# Access dashDB and explore the data with Python\n\nThis notebook shows how to access a dashDB data warehouse or DB2 database when using Python. The examples use a dashDB warehouse, but the instructions apply to both dashDB and DB2.\n\n<!--\n![dashDB Logo](https://ibm.box.com/shared/static/42yt39czuksqdi278xpy96txtlw3lfmb.png)\n![Python Logo](https://www.python.org/static/community_logos/python-logo-master-v3-TM-flattened.png)\n-->\n\n## Table of contents\n\n1. [Setup](#Setup) \n1. [Import the *ibmdbpy* Python library](#Import-the-ibmdbpy-Python-library)\n1. [Insert the database connection credentials](#Insert-the-database-connection-credentials)\n1. [Create the database connection](#Create-the-database-connection)\n1. [Use dataframe to read and manipulate tables](#Use-dataframe-to-read-and-manipulate-tables)\n1. [Use SQL](#Use-SQL)\n1. [Explore the trafficking data](#Explore-the-trafficking-data)\n1. [Close the database connection](#Close-the-database-connection)\n1. [Summary](#Summary)\n\n\n## Setup\n\nBefore beginning you will need a *dashDB* instance. dashDB is a fully managed cloud data warehouse, purpose-built for analytics. It offers massively parallel processing (MPP) scale and compatibility with a wide range of business intelligence (BI) tools.  \n\n1. __RIGHT-CLICK__ [this link](https://github.com/jpatter/Proof-of-Technology/raw/master/DSX/Lab-1/data/Female-human-trafficking.csv) and select __Save Link As...__ to save the `Female-human-trafficking.csv` file to your desktop.\n1. Download the [dashDB setup instructions](https://github.com/jpatter/Proof-of-Technology/raw/master/DSX/Lab-1/dashDB-Setup.pdf).\n1. Open up the PDF file that you've just downloaded in the previous step and follow the instructions there to setup dashDB, load the human trafficking data and create a DSX data connection.\n\n<a class=\"ibm-tooltip\" href=\"https://console.ng.bluemix.net/catalog/services/dashdb\" target=\"_blank\" title=\"\" id=\"ibm-tooltip-0\">\n<img alt=\"IBM Bluemix.Get started now\" height=\"193\" width=\"153\" src=\"https://ibm.box.com/shared/static/42yt39czuksqdi278xpy96txtlw3lfmb.png\" >\n</a>\n\n\n## Import the *ibmdbpy* Python library\n\nPython support for dashDB and DB2 is provided by the [ibmdbpy Python library](https://pypi.python.org/pypi/ibmdbpy). Connecting to dashDB or DB2 is also enabled by a DB2 driver, libdb2.so.  The ibmdbpy project provides a Python interface for data manipulation and access to in-database algorithms in IBM dashDB and IBM DB2. It accelerates Python analytics by seamlessly pushing operations written in Python into the underlying database for execution, thereby benefitting from in-database performance-enhancing features, such as columnar storage and parallel processing.\n\n### Setup a *JDBC* connection\nThe JDBC Connection is based on a Java virtual machine. From the ibmdbpy library you can use JDBC to connect to a remote dashDB/DB2 instance. To be able to use JDBC to connect, we need to import the *JayDeBeApi* package and we need to add the dashDB/DB2 data connector jar file to the java class path.\n\nTo run a cell, click on the cell and click the run button in the toolbar or press __SHIFT-ENTER__.\n\nRun the following commands to install and load the `JayDeBeApi` package and the `ibmdbpy` library into your notebook:"
        }, 
        {
            "execution_count": 33, 
            "metadata": {}, 
            "cell_type": "code", 
            "outputs": [], 
            "source": "#!pip install --trusted-host pypi.python.org JayDeBeApi==0.2.0 --user\n#!pip install --trusted-host pypi.python.org --upgrade --user ibmdbpy"
        }, 
        {
            "execution_count": 2, 
            "metadata": {
                "collapsed": true
            }, 
            "cell_type": "code", 
            "outputs": [], 
            "source": "import jaydebeapi\nfrom ibmdbpy import IdaDataBase\nfrom ibmdbpy import IdaDataFrame"
        }, 
        {
            "execution_count": 3, 
            "metadata": {
                "collapsed": true
            }, 
            "cell_type": "code", 
            "outputs": [], 
            "source": "import os\nos.environ['CLASSPATH'] = \"/usr/local/src/data-connectors-1.4.1/db2jcc4-10.5.0.6.jar\"\n\nimport jpype\nargs='-Djava.class.path=%s' % os.environ['CLASSPATH']\njvm = jpype.getDefaultJVMPath()\njpype.startJVM(jvm, args)"
        }, 
        {
            "metadata": {}, 
            "cell_type": "markdown", 
            "source": "\n## Insert the database connection credentials\n\nClick on the cell below, then on the notebook toolbar, click the box of 1's and 0's, find your database connection and click the __Insert to code__ link under the connection name to have a `credentials_1` dictionary added to the notebook.\n\n__Note__: When this dictionary is inserted, it might have a different name than `credentials_1`.  If so change the dictionary name to `credentials_1` so that the rest of the notebook will work.\n\nConnecting to dashDB requires the following information which are provided by the credentials dictionary inserted:\n* Database name \n* Host DNS name or IP address \n* Host port\n* Connection protocol\n* User ID\n* User password\n\nThe information `credentials_1` will be used to build a connection string in a subsequent step."
        }, 
        {
            "execution_count": 4, 
            "metadata": {
                "collapsed": true
            }, 
            "cell_type": "code", 
            "outputs": [], 
            "source": "# The code was removed by DSX for sharing."
        }, 
        {
            "metadata": {}, 
            "cell_type": "markdown", 
            "source": "## Create the database connection\n\nThe following code snippet creates a connection string `connection_string`\nand uses the `connection_string` to create a database connection object:\n"
        }, 
        {
            "execution_count": 5, 
            "metadata": {
                "collapsed": true
            }, 
            "cell_type": "code", 
            "outputs": [], 
            "source": "connection_string = 'jdbc:db2://{hostname}:{port}/{db}:user={username};password={password};'.format(**credentials_1)\nidadb = IdaDataBase(dsn=connection_string)"
        }, 
        {
            "metadata": {}, 
            "cell_type": "markdown", 
            "source": "## Use a dataframe to read and manipulate tables\n\nYou can now use the connection object `idadb` to query the database:"
        }, 
        {
            "execution_count": 6, 
            "metadata": {}, 
            "cell_type": "code", 
            "outputs": [
                {
                    "execution_count": 6, 
                    "metadata": {}, 
                    "data": {
                        "text/html": "<div>\n<style>\n    .dataframe thead tr:only-child th {\n        text-align: right;\n    }\n\n    .dataframe thead th {\n        text-align: left;\n    }\n\n    .dataframe tbody tr th {\n        vertical-align: top;\n    }\n</style>\n<table border=\"1\" class=\"dataframe\">\n  <thead>\n    <tr style=\"text-align: right;\">\n      <th></th>\n      <th>TABSCHEMA</th>\n      <th>TABNAME</th>\n      <th>OWNER</th>\n      <th>TYPE</th>\n    </tr>\n  </thead>\n  <tbody>\n    <tr>\n      <th>0</th>\n      <td>DASH13983</td>\n      <td>FEMALE_HUMAN_TRAFFICKING</td>\n      <td>DASH13983</td>\n      <td>T</td>\n    </tr>\n    <tr>\n      <th>1</th>\n      <td>GOSALES</td>\n      <td>BRANCH</td>\n      <td>DB2INST1</td>\n      <td>T</td>\n    </tr>\n    <tr>\n      <th>2</th>\n      <td>GOSALES</td>\n      <td>CONVERSION_RATE</td>\n      <td>DB2INST1</td>\n      <td>T</td>\n    </tr>\n    <tr>\n      <th>3</th>\n      <td>GOSALES</td>\n      <td>COUNTRY</td>\n      <td>DB2INST1</td>\n      <td>T</td>\n    </tr>\n    <tr>\n      <th>4</th>\n      <td>GOSALES</td>\n      <td>CURRENCY_LOOKUP</td>\n      <td>DB2INST1</td>\n      <td>T</td>\n    </tr>\n    <tr>\n      <th>5</th>\n      <td>GOSALES</td>\n      <td>EURO_CONVERSION</td>\n      <td>DB2INST1</td>\n      <td>T</td>\n    </tr>\n    <tr>\n      <th>6</th>\n      <td>GOSALES</td>\n      <td>INVENTORY_LEVELS</td>\n      <td>DB2INST1</td>\n      <td>T</td>\n    </tr>\n    <tr>\n      <th>7</th>\n      <td>GOSALES</td>\n      <td>ORDER_DETAILS</td>\n      <td>DB2INST1</td>\n      <td>T</td>\n    </tr>\n    <tr>\n      <th>8</th>\n      <td>GOSALES</td>\n      <td>ORDER_HEADER</td>\n      <td>DB2INST1</td>\n      <td>T</td>\n    </tr>\n    <tr>\n      <th>9</th>\n      <td>GOSALES</td>\n      <td>ORDER_METHOD</td>\n      <td>DB2INST1</td>\n      <td>T</td>\n    </tr>\n  </tbody>\n</table>\n</div>", 
                        "text/plain": "   TABSCHEMA                   TABNAME      OWNER TYPE\n0  DASH13983  FEMALE_HUMAN_TRAFFICKING  DASH13983    T\n1    GOSALES                    BRANCH   DB2INST1    T\n2    GOSALES           CONVERSION_RATE   DB2INST1    T\n3    GOSALES                   COUNTRY   DB2INST1    T\n4    GOSALES           CURRENCY_LOOKUP   DB2INST1    T\n5    GOSALES           EURO_CONVERSION   DB2INST1    T\n6    GOSALES          INVENTORY_LEVELS   DB2INST1    T\n7    GOSALES             ORDER_DETAILS   DB2INST1    T\n8    GOSALES              ORDER_HEADER   DB2INST1    T\n9    GOSALES              ORDER_METHOD   DB2INST1    T"
                    }, 
                    "output_type": "execute_result"
                }
            ], 
            "source": "df = idadb.show_tables(show_all = True)\ndf.head(10)"
        }, 
        {
            "execution_count": 7, 
            "metadata": {}, 
            "cell_type": "code", 
            "outputs": [
                {
                    "execution_count": 7, 
                    "metadata": {}, 
                    "data": {
                        "text/plain": "True"
                    }, 
                    "output_type": "execute_result"
                }
            ], 
            "source": "idadb.exists_table_or_view('GOSALESDW.EMP_EXPENSE_FACT')"
        }, 
        {
            "metadata": {}, 
            "cell_type": "markdown", 
            "source": "Using our previously opened IdaDataBase instance named \u2018idadb\u2019, we can open one or several IdaDataFrame objects. They behave like pointers to remote tables.\n\nLet us open the *EMP_EXPENSE_FACT* data set, assuming it is stored in the database under the name \u2018GOSALESDW.EMP_EXPENSE_FACT\u2019. The following cell assigns the dataset to a Ida DataFrame.   IdaDataFrame copies the Pandas interface for DataFrame objects to ensure intuitive interaction for end-users.\n\nThe [Pandas data analysis library](http://pandas.pydata.org/) provides high-performance, easy-to-use data structures and data analysis tools for the Python programming language. Pandas allows easy processing and manipulation of tabular data, so it is a perfect fit for data extracted from relational databases.\n"
        }, 
        {
            "execution_count": 20, 
            "metadata": {}, 
            "cell_type": "code", 
            "outputs": [], 
            "source": "idadf = IdaDataFrame(idadb, 'GOSALESDW.EMP_EXPENSE_FACT')"
        }, 
        {
            "metadata": {}, 
            "cell_type": "markdown", 
            "source": "<div class=\"panel-group\" id=\"accordion-1\">\n  <div class=\"panel panel-default\">\n    <div class=\"panel-heading\">\n      <h4 class=\"panel-title\"><a data-toggle=\"collapse\" data-parent=\"#accordion-1\" href=\"#collapse1-1\">Optional Advanced:</a></h4>\n    </div>\n    <div id=\"collapse1-1\" class=\"panel-collapse collapse\">\n      <div class=\"panel-body\">\nTry adding the IdaDataFrame or Pandas DataFrame for the table in question from the Connections view -- do all the following commands still work?\n\n      </div>\n    </div>\n  </div>\n</div>"
        }, 
        {
            "execution_count": 21, 
            "metadata": {}, 
            "cell_type": "code", 
            "outputs": [
                {
                    "execution_count": 21, 
                    "metadata": {}, 
                    "data": {
                        "text/plain": "DAY_KEY                    int64\nORGANIZATION_KEY           int64\nPOSITION_KEY               int64\nEMPLOYEE_KEY               int64\nEXPENSE_TYPE_KEY           int64\nACCOUNT_KEY                int64\nEXPENSE_UNIT_QUANTITY    float64\nEXPENSE_TOTAL            float64\ndtype: object"
                    }, 
                    "output_type": "execute_result"
                }
            ], 
            "source": "idadf.dtypes"
        }, 
        {
            "metadata": {}, 
            "cell_type": "markdown", 
            "source": "You can very easily explore the data in the IdaDataFrame by using built in functions.\n\nUse IdaDataFrame.head to get the first n records of your data set (default 5):"
        }, 
        {
            "execution_count": 22, 
            "metadata": {}, 
            "cell_type": "code", 
            "outputs": [
                {
                    "execution_count": 22, 
                    "metadata": {}, 
                    "data": {
                        "text/html": "<div>\n<style>\n    .dataframe thead tr:only-child th {\n        text-align: right;\n    }\n\n    .dataframe thead th {\n        text-align: left;\n    }\n\n    .dataframe tbody tr th {\n        vertical-align: top;\n    }\n</style>\n<table border=\"1\" class=\"dataframe\">\n  <thead>\n    <tr style=\"text-align: right;\">\n      <th></th>\n      <th>DAY_KEY</th>\n      <th>ORGANIZATION_KEY</th>\n      <th>POSITION_KEY</th>\n      <th>EMPLOYEE_KEY</th>\n      <th>EXPENSE_TYPE_KEY</th>\n      <th>ACCOUNT_KEY</th>\n      <th>EXPENSE_UNIT_QUANTITY</th>\n      <th>EXPENSE_TOTAL</th>\n    </tr>\n  </thead>\n  <tbody>\n    <tr>\n      <th>0</th>\n      <td>20100131</td>\n      <td>11101</td>\n      <td>43639</td>\n      <td>4001</td>\n      <td>2120</td>\n      <td>8052</td>\n      <td>0.080</td>\n      <td>513.35</td>\n    </tr>\n    <tr>\n      <th>1</th>\n      <td>20100131</td>\n      <td>11101</td>\n      <td>43639</td>\n      <td>4001</td>\n      <td>2122</td>\n      <td>8054</td>\n      <td>0.110</td>\n      <td>705.86</td>\n    </tr>\n    <tr>\n      <th>2</th>\n      <td>20100131</td>\n      <td>11101</td>\n      <td>43639</td>\n      <td>4001</td>\n      <td>2124</td>\n      <td>8056</td>\n      <td>0.030</td>\n      <td>192.51</td>\n    </tr>\n    <tr>\n      <th>3</th>\n      <td>20100131</td>\n      <td>11101</td>\n      <td>43639</td>\n      <td>4001</td>\n      <td>2130</td>\n      <td>8050</td>\n      <td>0.005</td>\n      <td>2291.88</td>\n    </tr>\n    <tr>\n      <th>4</th>\n      <td>20100131</td>\n      <td>11101</td>\n      <td>43639</td>\n      <td>4001</td>\n      <td>2131</td>\n      <td>8049</td>\n      <td>165.000</td>\n      <td>4125.00</td>\n    </tr>\n  </tbody>\n</table>\n</div>", 
                        "text/plain": "    DAY_KEY  ORGANIZATION_KEY  POSITION_KEY  EMPLOYEE_KEY  EXPENSE_TYPE_KEY  \\\n0  20100131             11101         43639          4001              2120   \n1  20100131             11101         43639          4001              2122   \n2  20100131             11101         43639          4001              2124   \n3  20100131             11101         43639          4001              2130   \n4  20100131             11101         43639          4001              2131   \n\n   ACCOUNT_KEY  EXPENSE_UNIT_QUANTITY  EXPENSE_TOTAL  \n0         8052                  0.080         513.35  \n1         8054                  0.110         705.86  \n2         8056                  0.030         192.51  \n3         8050                  0.005        2291.88  \n4         8049                165.000        4125.00  "
                    }, 
                    "output_type": "execute_result"
                }
            ], 
            "source": "idadf.head()"
        }, 
        {
            "metadata": {}, 
            "cell_type": "markdown", 
            "source": "Use IdaDataFrame.tail to get the last n records of your data set (default 5) -- try running this multiple times:"
        }, 
        {
            "execution_count": 23, 
            "metadata": {
                "scrolled": true
            }, 
            "cell_type": "code", 
            "outputs": [
                {
                    "execution_count": 23, 
                    "metadata": {}, 
                    "data": {
                        "text/html": "<div>\n<style>\n    .dataframe thead tr:only-child th {\n        text-align: right;\n    }\n\n    .dataframe thead th {\n        text-align: left;\n    }\n\n    .dataframe tbody tr th {\n        vertical-align: top;\n    }\n</style>\n<table border=\"1\" class=\"dataframe\">\n  <thead>\n    <tr style=\"text-align: right;\">\n      <th></th>\n      <th>DAY_KEY</th>\n      <th>ORGANIZATION_KEY</th>\n      <th>POSITION_KEY</th>\n      <th>EMPLOYEE_KEY</th>\n      <th>EXPENSE_TYPE_KEY</th>\n      <th>ACCOUNT_KEY</th>\n      <th>EXPENSE_UNIT_QUANTITY</th>\n      <th>EXPENSE_TOTAL</th>\n    </tr>\n  </thead>\n  <tbody>\n    <tr>\n      <th>127974</th>\n      <td>20110331</td>\n      <td>11166</td>\n      <td>43638</td>\n      <td>4037</td>\n      <td>2104</td>\n      <td>8050</td>\n      <td>15.000</td>\n      <td>253.62</td>\n    </tr>\n    <tr>\n      <th>127975</th>\n      <td>20110331</td>\n      <td>11166</td>\n      <td>43638</td>\n      <td>4037</td>\n      <td>2120</td>\n      <td>8052</td>\n      <td>0.080</td>\n      <td>317.80</td>\n    </tr>\n    <tr>\n      <th>127976</th>\n      <td>20110331</td>\n      <td>11166</td>\n      <td>43638</td>\n      <td>4037</td>\n      <td>2122</td>\n      <td>8054</td>\n      <td>0.110</td>\n      <td>436.98</td>\n    </tr>\n    <tr>\n      <th>127977</th>\n      <td>20110331</td>\n      <td>11166</td>\n      <td>43638</td>\n      <td>4037</td>\n      <td>2124</td>\n      <td>8056</td>\n      <td>0.030</td>\n      <td>119.18</td>\n    </tr>\n    <tr>\n      <th>127978</th>\n      <td>20110331</td>\n      <td>11166</td>\n      <td>43638</td>\n      <td>4037</td>\n      <td>2130</td>\n      <td>8050</td>\n      <td>0.005</td>\n      <td>1055.84</td>\n    </tr>\n    <tr>\n      <th>127979</th>\n      <td>20110331</td>\n      <td>11166</td>\n      <td>43638</td>\n      <td>4037</td>\n      <td>2131</td>\n      <td>8049</td>\n      <td>157.500</td>\n      <td>2663.05</td>\n    </tr>\n    <tr>\n      <th>127980</th>\n      <td>20110331</td>\n      <td>11166</td>\n      <td>43638</td>\n      <td>4037</td>\n      <td>2137</td>\n      <td>8050</td>\n      <td>7.500</td>\n      <td>500.00</td>\n    </tr>\n    <tr>\n      <th>127981</th>\n      <td>20110430</td>\n      <td>11166</td>\n      <td>43638</td>\n      <td>4037</td>\n      <td>2120</td>\n      <td>8052</td>\n      <td>0.080</td>\n      <td>450.90</td>\n    </tr>\n    <tr>\n      <th>127982</th>\n      <td>20110430</td>\n      <td>11166</td>\n      <td>43638</td>\n      <td>4037</td>\n      <td>2122</td>\n      <td>8054</td>\n      <td>0.110</td>\n      <td>619.99</td>\n    </tr>\n    <tr>\n      <th>127983</th>\n      <td>20110430</td>\n      <td>11166</td>\n      <td>43638</td>\n      <td>4037</td>\n      <td>2124</td>\n      <td>8056</td>\n      <td>0.030</td>\n      <td>169.09</td>\n    </tr>\n  </tbody>\n</table>\n</div>", 
                        "text/plain": "         DAY_KEY  ORGANIZATION_KEY  POSITION_KEY  EMPLOYEE_KEY  \\\n127974  20110331             11166         43638          4037   \n127975  20110331             11166         43638          4037   \n127976  20110331             11166         43638          4037   \n127977  20110331             11166         43638          4037   \n127978  20110331             11166         43638          4037   \n127979  20110331             11166         43638          4037   \n127980  20110331             11166         43638          4037   \n127981  20110430             11166         43638          4037   \n127982  20110430             11166         43638          4037   \n127983  20110430             11166         43638          4037   \n\n        EXPENSE_TYPE_KEY  ACCOUNT_KEY  EXPENSE_UNIT_QUANTITY  EXPENSE_TOTAL  \n127974              2104         8050                 15.000         253.62  \n127975              2120         8052                  0.080         317.80  \n127976              2122         8054                  0.110         436.98  \n127977              2124         8056                  0.030         119.18  \n127978              2130         8050                  0.005        1055.84  \n127979              2131         8049                157.500        2663.05  \n127980              2137         8050                  7.500         500.00  \n127981              2120         8052                  0.080         450.90  \n127982              2122         8054                  0.110         619.99  \n127983              2124         8056                  0.030         169.09  "
                    }, 
                    "output_type": "execute_result"
                }
            ], 
            "source": "idadf.tail(10)"
        }, 
        {
            "metadata": {}, 
            "cell_type": "markdown", 
            "source": "__Note__: Because dashDB operates on a distributed system, the order of rows using IdaDataFrame.head and IdaDataFrame.tail is not guaranteed unless the table is sorted (using an \u2018ORDER BY\u2019 clause) or a column is declared as index for the IdaDataFrame (parameter/attribute indexer).\n\nIdaDataFrame also implements most attributes that are available in a pandas DataFrame, here is an example of getting the _shape_ of the data frame (rows, columns):"
        }, 
        {
            "execution_count": 24, 
            "metadata": {}, 
            "cell_type": "code", 
            "outputs": [
                {
                    "execution_count": 24, 
                    "metadata": {}, 
                    "data": {
                        "text/plain": "(127984, 8)"
                    }, 
                    "output_type": "execute_result"
                }
            ], 
            "source": "idadf.shape"
        }, 
        {
            "execution_count": 25, 
            "metadata": {}, 
            "cell_type": "code", 
            "outputs": [
                {
                    "execution_count": 25, 
                    "metadata": {}, 
                    "data": {
                        "text/plain": "Index(['DAY_KEY', 'ORGANIZATION_KEY', 'POSITION_KEY', 'EMPLOYEE_KEY',\n       'EXPENSE_TYPE_KEY', 'ACCOUNT_KEY', 'EXPENSE_UNIT_QUANTITY',\n       'EXPENSE_TOTAL'],\n      dtype='object')"
                    }, 
                    "output_type": "execute_result"
                }
            ], 
            "source": "idadf.columns"
        }, 
        {
            "metadata": {}, 
            "cell_type": "markdown", 
            "source": "Several standard statistics functions from the pandas interface are also available for IdaDataFrame.  You can use the __TAB__ key after the `.` to see the methods and attributes available in an object in a pulldown menu. \n\nFor example, let us calculate various summary statistics for the data set by using the `describe` method for the IdaDataFrame instance:"
        }, 
        {
            "execution_count": 26, 
            "metadata": {}, 
            "cell_type": "code", 
            "outputs": [
                {
                    "execution_count": 26, 
                    "metadata": {}, 
                    "data": {
                        "text/html": "<div>\n<style>\n    .dataframe thead tr:only-child th {\n        text-align: right;\n    }\n\n    .dataframe thead th {\n        text-align: left;\n    }\n\n    .dataframe tbody tr th {\n        vertical-align: top;\n    }\n</style>\n<table border=\"1\" class=\"dataframe\">\n  <thead>\n    <tr style=\"text-align: right;\">\n      <th></th>\n      <th>DAY_KEY</th>\n      <th>ORGANIZATION_KEY</th>\n      <th>POSITION_KEY</th>\n      <th>EMPLOYEE_KEY</th>\n      <th>EXPENSE_TYPE_KEY</th>\n      <th>ACCOUNT_KEY</th>\n      <th>EXPENSE_UNIT_QUANTITY</th>\n      <th>EXPENSE_TOTAL</th>\n    </tr>\n  </thead>\n  <tbody>\n    <tr>\n      <th>count</th>\n      <td>1.279840e+05</td>\n      <td>127984.000000</td>\n      <td>127984.000000</td>\n      <td>127984.000000</td>\n      <td>127984.000000</td>\n      <td>127984.000000</td>\n      <td>127984.000000</td>\n      <td>127984.000000</td>\n    </tr>\n    <tr>\n      <th>mean</th>\n      <td>2.011514e+07</td>\n      <td>11157.820524</td>\n      <td>43627.441797</td>\n      <td>4489.672811</td>\n      <td>2120.315289</td>\n      <td>8052.091636</td>\n      <td>31.291244</td>\n      <td>1318.107960</td>\n    </tr>\n    <tr>\n      <th>std</th>\n      <td>1.036554e+04</td>\n      <td>31.272648</td>\n      <td>12.175158</td>\n      <td>298.987628</td>\n      <td>9.386336</td>\n      <td>2.532779</td>\n      <td>57.717638</td>\n      <td>2078.720318</td>\n    </tr>\n    <tr>\n      <th>min</th>\n      <td>2.010013e+07</td>\n      <td>11101.000000</td>\n      <td>43601.000000</td>\n      <td>4001.000000</td>\n      <td>2101.000000</td>\n      <td>8049.000000</td>\n      <td>-15.000000</td>\n      <td>-658.010000</td>\n    </tr>\n    <tr>\n      <th>25%</th>\n      <td>2.011013e+07</td>\n      <td>11131.000000</td>\n      <td>43617.000000</td>\n      <td>4216.000000</td>\n      <td>2120.000000</td>\n      <td>8050.000000</td>\n      <td>0.080000</td>\n      <td>211.280000</td>\n    </tr>\n    <tr>\n      <th>50%</th>\n      <td>2.011123e+07</td>\n      <td>11166.000000</td>\n      <td>43630.000000</td>\n      <td>4480.000000</td>\n      <td>2122.000000</td>\n      <td>8052.000000</td>\n      <td>0.110000</td>\n      <td>438.045000</td>\n    </tr>\n    <tr>\n      <th>75%</th>\n      <td>2.012103e+07</td>\n      <td>11182.000000</td>\n      <td>43637.000000</td>\n      <td>4763.000000</td>\n      <td>2124.000000</td>\n      <td>8054.000000</td>\n      <td>16.250000</td>\n      <td>1598.342500</td>\n    </tr>\n    <tr>\n      <th>max</th>\n      <td>2.013073e+07</td>\n      <td>11204.000000</td>\n      <td>43656.000000</td>\n      <td>4972.000000</td>\n      <td>2137.000000</td>\n      <td>8056.000000</td>\n      <td>172.500000</td>\n      <td>28776.920000</td>\n    </tr>\n  </tbody>\n</table>\n</div>", 
                        "text/plain": "            DAY_KEY  ORGANIZATION_KEY   POSITION_KEY   EMPLOYEE_KEY  \\\ncount  1.279840e+05     127984.000000  127984.000000  127984.000000   \nmean   2.011514e+07      11157.820524   43627.441797    4489.672811   \nstd    1.036554e+04         31.272648      12.175158     298.987628   \nmin    2.010013e+07      11101.000000   43601.000000    4001.000000   \n25%    2.011013e+07      11131.000000   43617.000000    4216.000000   \n50%    2.011123e+07      11166.000000   43630.000000    4480.000000   \n75%    2.012103e+07      11182.000000   43637.000000    4763.000000   \nmax    2.013073e+07      11204.000000   43656.000000    4972.000000   \n\n       EXPENSE_TYPE_KEY    ACCOUNT_KEY  EXPENSE_UNIT_QUANTITY  EXPENSE_TOTAL  \ncount     127984.000000  127984.000000          127984.000000  127984.000000  \nmean        2120.315289    8052.091636              31.291244    1318.107960  \nstd            9.386336       2.532779              57.717638    2078.720318  \nmin         2101.000000    8049.000000             -15.000000    -658.010000  \n25%         2120.000000    8050.000000               0.080000     211.280000  \n50%         2122.000000    8052.000000               0.110000     438.045000  \n75%         2124.000000    8054.000000              16.250000    1598.342500  \nmax         2137.000000    8056.000000             172.500000   28776.920000  "
                    }, 
                    "output_type": "execute_result"
                }
            ], 
            "source": "idadf.d"
        }, 
        {
            "metadata": {}, 
            "cell_type": "markdown", 
            "source": "__Note__: It is possible to subset the rows of an IdaDataFrame by accessing the IdaDataFrame with a slice object. You can also use the IdaDataFrame.loc attribute, which contains an ibmdbpy.Loc object. However, the row selection might be inaccurate if the current IdaDataFrame is not sorted or does not contain an indexer. This is due to the fact that dashDB stores the data across several nodes if available. Moreover, because dashDB is a column oriented database, row numbers are undefined:"
        }, 
        {
            "execution_count": 37, 
            "metadata": {
                "scrolled": true
            }, 
            "cell_type": "code", 
            "outputs": [
                {
                    "execution_count": 37, 
                    "metadata": {}, 
                    "data": {
                        "text/html": "<div>\n<style>\n    .dataframe thead tr:only-child th {\n        text-align: right;\n    }\n\n    .dataframe thead th {\n        text-align: left;\n    }\n\n    .dataframe tbody tr th {\n        vertical-align: top;\n    }\n</style>\n<table border=\"1\" class=\"dataframe\">\n  <thead>\n    <tr style=\"text-align: right;\">\n      <th></th>\n      <th>DAY_KEY</th>\n      <th>ORGANIZATION_KEY</th>\n      <th>POSITION_KEY</th>\n      <th>EMPLOYEE_KEY</th>\n      <th>EXPENSE_TYPE_KEY</th>\n      <th>ACCOUNT_KEY</th>\n      <th>EXPENSE_UNIT_QUANTITY</th>\n      <th>EXPENSE_TOTAL</th>\n    </tr>\n  </thead>\n  <tbody>\n    <tr>\n      <th>0</th>\n      <td>20100131</td>\n      <td>11101</td>\n      <td>43639</td>\n      <td>4001</td>\n      <td>2120</td>\n      <td>8052</td>\n      <td>0.080</td>\n      <td>513.35</td>\n    </tr>\n    <tr>\n      <th>1</th>\n      <td>20100131</td>\n      <td>11101</td>\n      <td>43639</td>\n      <td>4001</td>\n      <td>2122</td>\n      <td>8054</td>\n      <td>0.110</td>\n      <td>705.86</td>\n    </tr>\n    <tr>\n      <th>2</th>\n      <td>20100131</td>\n      <td>11101</td>\n      <td>43639</td>\n      <td>4001</td>\n      <td>2124</td>\n      <td>8056</td>\n      <td>0.030</td>\n      <td>192.51</td>\n    </tr>\n    <tr>\n      <th>3</th>\n      <td>20100131</td>\n      <td>11101</td>\n      <td>43639</td>\n      <td>4001</td>\n      <td>2130</td>\n      <td>8050</td>\n      <td>0.005</td>\n      <td>2291.88</td>\n    </tr>\n    <tr>\n      <th>4</th>\n      <td>20100131</td>\n      <td>11101</td>\n      <td>43639</td>\n      <td>4001</td>\n      <td>2131</td>\n      <td>8049</td>\n      <td>165.000</td>\n      <td>4125.00</td>\n    </tr>\n    <tr>\n      <th>5</th>\n      <td>20100131</td>\n      <td>11101</td>\n      <td>43639</td>\n      <td>4001</td>\n      <td>2133</td>\n      <td>8050</td>\n      <td>15.000</td>\n      <td>2000.00</td>\n    </tr>\n    <tr>\n      <th>6</th>\n      <td>20100131</td>\n      <td>11101</td>\n      <td>43639</td>\n      <td>4001</td>\n      <td>2137</td>\n      <td>8050</td>\n      <td>7.500</td>\n      <td>500.00</td>\n    </tr>\n    <tr>\n      <th>7</th>\n      <td>20100228</td>\n      <td>11101</td>\n      <td>43639</td>\n      <td>4001</td>\n      <td>2120</td>\n      <td>8052</td>\n      <td>0.080</td>\n      <td>411.03</td>\n    </tr>\n    <tr>\n      <th>8</th>\n      <td>20100228</td>\n      <td>11101</td>\n      <td>43639</td>\n      <td>4001</td>\n      <td>2122</td>\n      <td>8054</td>\n      <td>0.110</td>\n      <td>565.16</td>\n    </tr>\n  </tbody>\n</table>\n</div>", 
                        "text/plain": "    DAY_KEY  ORGANIZATION_KEY  POSITION_KEY  EMPLOYEE_KEY  EXPENSE_TYPE_KEY  \\\n0  20100131             11101         43639          4001              2120   \n1  20100131             11101         43639          4001              2122   \n2  20100131             11101         43639          4001              2124   \n3  20100131             11101         43639          4001              2130   \n4  20100131             11101         43639          4001              2131   \n5  20100131             11101         43639          4001              2133   \n6  20100131             11101         43639          4001              2137   \n7  20100228             11101         43639          4001              2120   \n8  20100228             11101         43639          4001              2122   \n\n   ACCOUNT_KEY  EXPENSE_UNIT_QUANTITY  EXPENSE_TOTAL  \n0         8052                  0.080         513.35  \n1         8054                  0.110         705.86  \n2         8056                  0.030         192.51  \n3         8050                  0.005        2291.88  \n4         8049                165.000        4125.00  \n5         8050                 15.000        2000.00  \n6         8050                  7.500         500.00  \n7         8052                  0.080         411.03  \n8         8054                  0.110         565.16  "
                    }, 
                    "output_type": "execute_result"
                }
            ], 
            "source": "idadf_new = idadf[0:9] # Select the first 10 rows\nidadf_new"
        }, 
        {
            "metadata": {}, 
            "cell_type": "markdown", 
            "source": "## Use SQL\nWe can also use SQL to get the top 10."
        }, 
        {
            "execution_count": 35, 
            "metadata": {}, 
            "cell_type": "code", 
            "outputs": [
                {
                    "execution_count": 35, 
                    "metadata": {}, 
                    "data": {
                        "text/html": "<div>\n<style>\n    .dataframe thead tr:only-child th {\n        text-align: right;\n    }\n\n    .dataframe thead th {\n        text-align: left;\n    }\n\n    .dataframe tbody tr th {\n        vertical-align: top;\n    }\n</style>\n<table border=\"1\" class=\"dataframe\">\n  <thead>\n    <tr style=\"text-align: right;\">\n      <th></th>\n      <th>DAY_KEY</th>\n      <th>ORGANIZATION_KEY</th>\n      <th>POSITION_KEY</th>\n      <th>EMPLOYEE_KEY</th>\n      <th>EXPENSE_TYPE_KEY</th>\n      <th>ACCOUNT_KEY</th>\n      <th>EXPENSE_UNIT_QUANTITY</th>\n      <th>EXPENSE_TOTAL</th>\n    </tr>\n  </thead>\n  <tbody>\n    <tr>\n      <th>0</th>\n      <td>20100131</td>\n      <td>11101</td>\n      <td>43639</td>\n      <td>4001</td>\n      <td>2120</td>\n      <td>8052</td>\n      <td>0.080</td>\n      <td>513.35</td>\n    </tr>\n    <tr>\n      <th>1</th>\n      <td>20100131</td>\n      <td>11101</td>\n      <td>43639</td>\n      <td>4001</td>\n      <td>2122</td>\n      <td>8054</td>\n      <td>0.110</td>\n      <td>705.86</td>\n    </tr>\n    <tr>\n      <th>2</th>\n      <td>20100131</td>\n      <td>11101</td>\n      <td>43639</td>\n      <td>4001</td>\n      <td>2124</td>\n      <td>8056</td>\n      <td>0.030</td>\n      <td>192.51</td>\n    </tr>\n    <tr>\n      <th>3</th>\n      <td>20100131</td>\n      <td>11101</td>\n      <td>43639</td>\n      <td>4001</td>\n      <td>2130</td>\n      <td>8050</td>\n      <td>0.005</td>\n      <td>2291.88</td>\n    </tr>\n    <tr>\n      <th>4</th>\n      <td>20100131</td>\n      <td>11101</td>\n      <td>43639</td>\n      <td>4001</td>\n      <td>2131</td>\n      <td>8049</td>\n      <td>165.000</td>\n      <td>4125.00</td>\n    </tr>\n    <tr>\n      <th>5</th>\n      <td>20100131</td>\n      <td>11101</td>\n      <td>43639</td>\n      <td>4001</td>\n      <td>2133</td>\n      <td>8050</td>\n      <td>15.000</td>\n      <td>2000.00</td>\n    </tr>\n    <tr>\n      <th>6</th>\n      <td>20100131</td>\n      <td>11101</td>\n      <td>43639</td>\n      <td>4001</td>\n      <td>2137</td>\n      <td>8050</td>\n      <td>7.500</td>\n      <td>500.00</td>\n    </tr>\n    <tr>\n      <th>7</th>\n      <td>20100228</td>\n      <td>11101</td>\n      <td>43639</td>\n      <td>4001</td>\n      <td>2120</td>\n      <td>8052</td>\n      <td>0.080</td>\n      <td>411.03</td>\n    </tr>\n    <tr>\n      <th>8</th>\n      <td>20100228</td>\n      <td>11101</td>\n      <td>43639</td>\n      <td>4001</td>\n      <td>2122</td>\n      <td>8054</td>\n      <td>0.110</td>\n      <td>565.16</td>\n    </tr>\n    <tr>\n      <th>9</th>\n      <td>20100228</td>\n      <td>11101</td>\n      <td>43639</td>\n      <td>4001</td>\n      <td>2124</td>\n      <td>8056</td>\n      <td>0.030</td>\n      <td>154.14</td>\n    </tr>\n  </tbody>\n</table>\n</div>", 
                        "text/plain": "    DAY_KEY  ORGANIZATION_KEY  POSITION_KEY  EMPLOYEE_KEY  EXPENSE_TYPE_KEY  \\\n0  20100131             11101         43639          4001              2120   \n1  20100131             11101         43639          4001              2122   \n2  20100131             11101         43639          4001              2124   \n3  20100131             11101         43639          4001              2130   \n4  20100131             11101         43639          4001              2131   \n5  20100131             11101         43639          4001              2133   \n6  20100131             11101         43639          4001              2137   \n7  20100228             11101         43639          4001              2120   \n8  20100228             11101         43639          4001              2122   \n9  20100228             11101         43639          4001              2124   \n\n   ACCOUNT_KEY  EXPENSE_UNIT_QUANTITY  EXPENSE_TOTAL  \n0         8052                  0.080         513.35  \n1         8054                  0.110         705.86  \n2         8056                  0.030         192.51  \n3         8050                  0.005        2291.88  \n4         8049                165.000        4125.00  \n5         8050                 15.000        2000.00  \n6         8050                  7.500         500.00  \n7         8052                  0.080         411.03  \n8         8054                  0.110         565.16  \n9         8056                  0.030         154.14  "
                    }, 
                    "output_type": "execute_result"
                }
            ], 
            "source": "top_10_df = idadb.ida_query('SELECT * FROM GOSALESDW.EMP_EXPENSE_FACT LIMIT 10')\ntop_10_df"
        }, 
        {
            "metadata": {}, 
            "cell_type": "markdown", 
            "source": "Find the top 10 employees (by id) by the number of transactions in the `GOSALESDW.EMP_EXPENSE_FACT` table."
        }, 
        {
            "execution_count": 29, 
            "metadata": {}, 
            "cell_type": "code", 
            "outputs": [
                {
                    "execution_count": 29, 
                    "metadata": {}, 
                    "data": {
                        "text/html": "<div>\n<style>\n    .dataframe thead tr:only-child th {\n        text-align: right;\n    }\n\n    .dataframe thead th {\n        text-align: left;\n    }\n\n    .dataframe tbody tr th {\n        vertical-align: top;\n    }\n</style>\n<table border=\"1\" class=\"dataframe\">\n  <thead>\n    <tr style=\"text-align: right;\">\n      <th></th>\n      <th>EMPLOYEE_KEY</th>\n      <th>COUNT</th>\n    </tr>\n  </thead>\n  <tbody>\n    <tr>\n      <th>0</th>\n      <td>4112</td>\n      <td>263.0</td>\n    </tr>\n    <tr>\n      <th>1</th>\n      <td>4134</td>\n      <td>263.0</td>\n    </tr>\n    <tr>\n      <th>2</th>\n      <td>4135</td>\n      <td>261.0</td>\n    </tr>\n    <tr>\n      <th>3</th>\n      <td>4019</td>\n      <td>260.0</td>\n    </tr>\n    <tr>\n      <th>4</th>\n      <td>4368</td>\n      <td>260.0</td>\n    </tr>\n    <tr>\n      <th>5</th>\n      <td>4053</td>\n      <td>260.0</td>\n    </tr>\n    <tr>\n      <th>6</th>\n      <td>4016</td>\n      <td>260.0</td>\n    </tr>\n    <tr>\n      <th>7</th>\n      <td>4129</td>\n      <td>259.0</td>\n    </tr>\n    <tr>\n      <th>8</th>\n      <td>4480</td>\n      <td>259.0</td>\n    </tr>\n    <tr>\n      <th>9</th>\n      <td>4020</td>\n      <td>258.0</td>\n    </tr>\n  </tbody>\n</table>\n</div>", 
                        "text/plain": "   EMPLOYEE_KEY  COUNT\n0          4112  263.0\n1          4134  263.0\n2          4135  261.0\n3          4019  260.0\n4          4368  260.0\n5          4053  260.0\n6          4016  260.0\n7          4129  259.0\n8          4480  259.0\n9          4020  258.0"
                    }, 
                    "output_type": "execute_result"
                }
            ], 
            "source": "idadb.ida_query('SELECT EMPLOYEE_KEY, COUNT(*) AS COUNT FROM GOSALESDW.EMP_EXPENSE_FACT GROUP BY EMPLOYEE_KEY ORDER BY COUNT DESC LIMIT 10')"
        }, 
        {
            "metadata": {}, 
            "cell_type": "markdown", 
            "source": "## Explore the trafficking data\n__Time to apply what you've learned!__\n\nComplete the tasks that are commented in the code blocks.  If you get stuck, check out the hints.  If you're still stuck, read the solution.  If you have any questions, feel free to ask."
        }, 
        {
            "execution_count": 38, 
            "metadata": {}, 
            "cell_type": "code", 
            "outputs": [
                {
                    "execution_count": 38, 
                    "metadata": {}, 
                    "data": {
                        "text/plain": "False"
                    }, 
                    "output_type": "execute_result"
                }
            ], 
            "source": "# Create a variable called `trafficking_table` and set it to the name of the trafficking table in your dashDB instance, for example:\n# trafficking_table = 'DASH1234.FEMALE_TRAFFICKING'\n\ntrafficking_table = '{}.FEMALE_TRAFFICKING'.format(credentials_1['username']).upper()\n\nidadb.exists_table_or_view(trafficking_table)\n\n# The output of this block should be:\n# True"
        }, 
        {
            "metadata": {}, 
            "cell_type": "markdown", 
            "source": "<div class=\"panel-group\" id=\"accordion-10\">\n  <div class=\"panel panel-default\">\n    <div class=\"panel-heading\">\n      <h4 class=\"panel-title\"><a data-toggle=\"collapse\" data-parent=\"#accordion-10\" href=\"#collapse1-10\">Hint 1</a></h4>\n    </div>\n    <div id=\"collapse1-10\" class=\"panel-collapse collapse\">\n      <div class=\"panel-body\">\n      \nThe table schema and name can be found [here](#Use-a-dataframe-to-read-and-manipulate-tables).\n      \n      </div>\n    </div>\n  </div>\n</div>"
        }, 
        {
            "execution_count": null, 
            "metadata": {
                "collapsed": true
            }, 
            "cell_type": "code", 
            "outputs": [], 
            "source": "# Create an IdaDataFrame called trafficking_df with the trafficking data and determine the shape of the table using the shape atribute of the trafficking_df instance\n\ntrafficking_df = \n\nprint(trafficking_df.shape)\ntrafficking_df.dtypes"
        }, 
        {
            "metadata": {}, 
            "cell_type": "markdown", 
            "source": "<div class=\"panel-group\" id=\"accordion-11\">\n  <div class=\"panel panel-default\">\n    <div class=\"panel-heading\">\n      <h4 class=\"panel-title\"><a data-toggle=\"collapse\" data-parent=\"#accordion-11\" href=\"#collapse1-11\">Hint 1</a></h4>\n    </div>\n    <div id=\"collapse1-11\" class=\"panel-collapse collapse\">\n      <div class=\"panel-body\">\n      \nIt's similar to the code:\n<pre>\nidadf = IdaDataFrame(idadb, 'GOSALESDW.EMP_EXPENSE_FACT')\n</pre>\n      \n      </div>\n    </div>\n  </div>\n  <div class=\"panel panel-default\">\n    <div class=\"panel-heading\">\n      <h4 class=\"panel-title\"><a data-toggle=\"collapse\" data-parent=\"#accordion-11\" href=\"#collapse2-11\">Solution</a></h4>\n    </div>\n    <div id=\"collapse2-11\" class=\"panel-collapse collapse\">\n      <div class=\"panel-body\">\n<pre>\ntrafficking_df = IdaDataFrame(idadb, trafficking_table)\n</pre>\n      </div>\n    </div>\n  </div>\n</div>\n"
        }, 
        {
            "execution_count": null, 
            "metadata": {
                "collapsed": true
            }, 
            "cell_type": "code", 
            "outputs": [], 
            "source": "# Show the top 5 records from the table using a method of the IdaDataFrame or alternatively via a SQL query using the ida_query method of the idadb instance\n\ntrafficking_df."
        }, 
        {
            "metadata": {}, 
            "cell_type": "markdown", 
            "source": "<div class=\"panel-group\" id=\"accordion-12\">\n  <div class=\"panel panel-default\">\n    <div class=\"panel-heading\">\n      <h4 class=\"panel-title\"><a data-toggle=\"collapse\" data-parent=\"#accordion-12\" href=\"#collapse1-12\">Hint 1</a></h4>\n    </div>\n    <div id=\"collapse1-12\" class=\"panel-collapse collapse\">\n      <div class=\"panel-body\">\n      \nHeads or tails?\n      \n      </div>\n    </div>\n  </div>\n  <div class=\"panel panel-default\">\n    <div class=\"panel-heading\">\n      <h4 class=\"panel-title\"><a data-toggle=\"collapse\" data-parent=\"#accordion-12\" href=\"#collapse2-12\">Solution 1</a></h4>\n    </div>\n    <div id=\"collapse2-12\" class=\"panel-collapse collapse\">\n      <div class=\"panel-body\">\n      Heads!\n<pre>\ntrafficking_df.head()\n</pre> \n      </div>\n    </div>\n  </div>\n  <div class=\"panel panel-default\">\n    <div class=\"panel-heading\">\n      <h4 class=\"panel-title\"><a data-toggle=\"collapse\" data-parent=\"#accordion-12\" href=\"#collapse3-12\">Solution 2</a></h4>\n    </div>\n    <div id=\"collapse3-12\" class=\"panel-collapse collapse\">\n      <div class=\"panel-body\">\n      SQL can work as well!  __Note__: The `+` operator used here is a way to concatenate strings in Python.\n<pre>\nidadb.ida_query('SELECT * FROM ' + trafficking_table + ' LIMIT 10')\n</pre>\n      </div>\n    </div>\n  </div>\n</div>\n"
        }, 
        {
            "execution_count": null, 
            "metadata": {
                "collapsed": true
            }, 
            "cell_type": "code", 
            "outputs": [], 
            "source": "# Query the trafficking table so that we get the vetting_level and the number of times that vetting_level appears in the trafficking table, ordered by the vetting_level\n\nidadb.('SELECT  ' + trafficking_table + ' GROUP BY  ORDER BY ')"
        }, 
        {
            "metadata": {}, 
            "cell_type": "markdown", 
            "source": "\n<div class=\"panel-group\" id=\"accordion-13\">\n  <div class=\"panel panel-default\">\n    <div class=\"panel-heading\">\n      <h4 class=\"panel-title\"><a data-toggle=\"collapse\" data-parent=\"#accordion-13\" href=\"#collapse1-13\">Hint 1</a></h4>\n    </div>\n    <div id=\"collapse1-13\" class=\"panel-collapse collapse\">\n      <div class=\"panel-body\">\n      \nIt is similar to:\n\n<pre>\nidadb.ida_query('SELECT EMPLOYEE_KEY, COUNT(*) AS COUNT FROM GOSALESDW.EMP_EXPENSE_FACT GROUP BY EMPLOYEE_KEY ORDER BY COUNT DESC LIMIT 10')\n</pre>\n      \n      </div>\n    </div>\n  </div>\n  <div class=\"panel panel-default\">\n    <div class=\"panel-heading\">\n      <h4 class=\"panel-title\"><a data-toggle=\"collapse\" data-parent=\"#accordion-13\" href=\"#collapse2-13\">Hint 2</a></h4>\n    </div>\n    <div id=\"collapse2-13\" class=\"panel-collapse collapse\">\n      <div class=\"panel-body\">\n      \nThe SQL query is:\n\n<pre>\n'SELECT VETTING_LEVEL, COUNT(*) AS COUNT FROM ' + trafficking_table + ' GROUP BY VETTING_LEVEL ORDER BY VETTING_LEVEL'\n</pre>\n      \n      </div>\n    </div>\n  </div>\n  <div class=\"panel panel-default\">\n    <div class=\"panel-heading\">\n      <h4 class=\"panel-title\"><a data-toggle=\"collapse\" data-parent=\"#accordion-13\" href=\"#collapse3-13\">Solution</a></h4>\n    </div>\n    <div id=\"collapse3-13\" class=\"panel-collapse collapse\">\n      <div class=\"panel-body\">\n      \n<pre>\nidadb.ida_query('SELECT VETTING_LEVEL, COUNT(*) AS COUNT FROM ' + trafficking_table + ' GROUP BY VETTING_LEVEL ORDER BY VETTING_LEVEL')\n</pre>\n\n      </div>\n    </div>\n  </div>\n</div>\n"
        }, 
        {
            "metadata": {}, 
            "cell_type": "markdown", 
            "source": "## Close the database connection\n\nTo ensure expected behaviors, IdaDataBase instances need to be closed.\n\n__Note__: Closing the *IdaDataBase* is equivalent to closing the connection: once the connection is closed, it is no longer possible to use the *IdaDataBase* instance and any *IdaDataFrame* instances that were opened on this connection."
        }, 
        {
            "execution_count": null, 
            "metadata": {
                "collapsed": true
            }, 
            "cell_type": "code", 
            "outputs": [], 
            "source": "idadb.close()"
        }, 
        {
            "metadata": {}, 
            "cell_type": "markdown", 
            "source": "## Summary\n\nThis notebook demonstrated how to establish a JDBC connection to a dashDB (or DB2) database from Python, work with data frames and explore the data using SQL and data frame object attributes and methods."
        }, 
        {
            "metadata": {}, 
            "cell_type": "markdown", 
            "source": "## Take it farther\n### Free courses on <a href=\"https://bigdatauniversity.com/courses/?utm_source=tutorial-dashdb-python&utm_medium=github&utm_campaign=bdu/\" rel=\"noopener noreferrer\" target=\"_blank\">Big Data University</a>: <a href=\"https://bigdatauniversity.com/courses/?utm_source=tutorial-dashdb-python&utm_medium=github&utm_campaign=bdu\" rel=\"noopener noreferrer\" target=\"_blank\"><img src = \"https://ibm.box.com/shared/static/xomeu7dacwufkoawbg3owc8wzuezltn6.png\" width=600px> </a>"
        }
    ], 
    "nbformat_minor": 1
}