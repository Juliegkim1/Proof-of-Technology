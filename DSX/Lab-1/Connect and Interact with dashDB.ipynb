{
    "metadata": {
        "language_info": {
            "name": "python", 
            "file_extension": ".py", 
            "pygments_lexer": "ipython3", 
            "nbconvert_exporter": "python", 
            "mimetype": "text/x-python", 
            "codemirror_mode": {
                "name": "ipython", 
                "version": 3
            }, 
            "version": "3.5.2"
        }, 
        "kernelspec": {
            "name": "python3-spark21", 
            "language": "python", 
            "display_name": "Python 3.5 (Experimental) with Spark 2.1"
        }
    }, 
    "nbformat": 4, 
    "nbformat_minor": 1, 
    "cells": [
        {
            "source": "\n# Access dashDB and explore the data with Python\n\nThis notebook shows how to access a dashDB data warehouse or DB2 database when using Python. The examples use a dashDB warehouse, but the instructions apply to both dashDB and DB2.\n\n<!--\n![dashDB Logo](https://ibm.box.com/shared/static/42yt39czuksqdi278xpy96txtlw3lfmb.png)\n![Python Logo](https://www.python.org/static/community_logos/python-logo-master-v3-TM-flattened.png)\n-->\n\n## Table of contents\n\n1. [Setup](#Setup) \n1. [Import the *ibmdbpy* Python library](#Import-the-ibmdbpy-Python-library)\n1. [Insert the database connection credentials](#Insert-the-database-connection-credentials)\n1. [Create the database connection](#Create-the-database-connection)\n1. [Use dataframe to read and manipulate tables](#Use-dataframe-to-read-and-manipulate-tables)\n1. [Use SQL](#Use-SQL)\n1. [Explore the trafficking data](#Explore-the-trafficking-data)\n1. [Close the database connection](#Close-the-database-connection)\n1. [Summary](#Summary)\n\n\n## Setup\n\nBefore beginning you will need a *dashDB* instance. dashDB is a fully managed cloud data warehouse, purpose-built for analytics. It offers massively parallel processing (MPP) scale and compatibility with a wide range of business intelligence (BI) tools.  \n\n1. __RIGHT-CLICK__ [this link](https://github.com/Davin-IBM/Proof-of-Technology/raw/master/DSX/Lab-1/data/Female-human-trafficking.csv) and select __Save Link As...__ to save the `Female-human-trafficking.csv` file to your desktop.\n1. Download the [dashDB setup instructions](https://github.com/Davin-IBM/Proof-of-Technology/raw/master/DSX/Lab-1/dashDB-Setup.pdf).\n1. Open up the PDF file that you've just downloaded in the previous step and follow the instructions there to setup dashDB, load the human trafficking data and create a DSX data connection.\n\n<a class=\"ibm-tooltip\" href=\"https://console.ng.bluemix.net/catalog/services/dashdb\" target=\"_blank\" title=\"\" id=\"ibm-tooltip-0\">\n<img alt=\"IBM Bluemix.Get started now\" height=\"193\" width=\"153\" src=\"https://ibm.box.com/shared/static/42yt39czuksqdi278xpy96txtlw3lfmb.png\" >\n</a>\n\n\n## Import the *ibmdbpy* Python library\n\nPython support for dashDB and DB2 is provided by the [ibmdbpy Python library](https://pypi.python.org/pypi/ibmdbpy). Connecting to dashDB or DB2 is also enabled by a DB2 driver, libdb2.so.  The ibmdbpy project provides a Python interface for data manipulation and access to in-database algorithms in IBM dashDB and IBM DB2. It accelerates Python analytics by seamlessly pushing operations written in Python into the underlying database for execution, thereby benefitting from in-database performance-enhancing features, such as columnar storage and parallel processing.\n\n### Setup a *JDBC* connection\nThe JDBC Connection is based on a Java virtual machine. From the ibmdbpy library you can use JDBC to connect to a remote dashDB/DB2 instance. To be able to use JDBC to connect, we need to import the *JayDeBeApi* package and we need to add the dashDB/DB2 data connector jar file to the java class path.\n\nTo run a cell, click on the cell and click the run button in the toolbar or press __SHIFT-ENTER__.\n\nRun the following commands to install and load the `JayDeBeApi` package and the `ibmdbpy` library into your notebook:", 
            "metadata": {}, 
            "cell_type": "markdown"
        }, 
        {
            "metadata": {
                "collapsed": true
            }, 
            "source": "#!pip install --trusted-host pypi.python.org JayDeBeApi==0.2.0 --user\n#!pip install --trusted-host pypi.python.org --upgrade --user ibmdbpy", 
            "outputs": [], 
            "execution_count": null, 
            "cell_type": "code"
        }, 
        {
            "metadata": {
                "collapsed": true
            }, 
            "source": "import jaydebeapi\nfrom ibmdbpy import IdaDataBase\nfrom ibmdbpy import IdaDataFrame", 
            "outputs": [], 
            "execution_count": 1, 
            "cell_type": "code"
        }, 
        {
            "metadata": {
                "collapsed": true
            }, 
            "source": "import os\nos.environ['CLASSPATH'] = \"/usr/local/src/data-connectors-1.4.1/db2jcc4-10.5.0.6.jar\"\n\nimport jpype\nargs='-Djava.class.path=%s' % os.environ['CLASSPATH']\njvm = jpype.getDefaultJVMPath()\njpype.startJVM(jvm, args)", 
            "outputs": [], 
            "execution_count": 2, 
            "cell_type": "code"
        }, 
        {
            "source": "\n## Insert the database connection credentials\n\nClick on the cell below, then on the notebook toolbar, click the box of 1's and 0's, find your database connection and click the __Insert to code__ link under the connection name to have a `credentials_1` dictionary added to the notebook.\n\n__Note__: When this dictionary is inserted, it might have a different name than `credentials_1`.  If so change the dictionary name to `credentials_1` so that the rest of the notebook will work.\n\nConnecting to dashDB requires the following information which are provided by the credentials dictionary inserted:\n* Database name \n* Host DNS name or IP address \n* Host port\n* Connection protocol\n* User ID\n* User password\n\nThe information `credentials_1` will be used to build a connection string in a subsequent step.", 
            "metadata": {}, 
            "cell_type": "markdown"
        }, 
        {
            "metadata": {
                "collapsed": true
            }, 
            "source": "# The code was removed by DSX for sharing.", 
            "outputs": [], 
            "execution_count": 3, 
            "cell_type": "code"
        }, 
        {
            "source": "## Create the database connection\n\nThe following code snippet creates a connection string `connection_string`\nand uses the `connection_string` to create a database connection object:\n", 
            "metadata": {}, 
            "cell_type": "markdown"
        }, 
        {
            "metadata": {
                "collapsed": true
            }, 
            "source": "connection_string = 'jdbc:db2://{hostname}:{port}/{db}:user={username};password={password};'.format(**credentials_1)\nidadb = IdaDataBase(dsn=connection_string)", 
            "outputs": [], 
            "execution_count": 4, 
            "cell_type": "code"
        }, 
        {
            "source": "## Use a dataframe to read and manipulate tables\n\nYou can now use the connection object `idadb` to query the database:", 
            "metadata": {}, 
            "cell_type": "markdown"
        }, 
        {
            "metadata": {}, 
            "source": "df = idadb.show_tables(show_all = True)\ndf.head(100)", 
            "outputs": [
                {
                    "output_type": "execute_result", 
                    "execution_count": 25, 
                    "metadata": {}, 
                    "data": {
                        "text/plain": "    TABSCHEMA                     TABNAME      OWNER TYPE\n0   DASH14135    FEMALE_HUMAN_TRAFFICKING  DASH14135    T\n1     GOSALES                      BRANCH   DB2INST1    T\n2     GOSALES             CONVERSION_RATE   DB2INST1    T\n3     GOSALES                     COUNTRY   DB2INST1    T\n4     GOSALES             CURRENCY_LOOKUP   DB2INST1    T\n5     GOSALES             EURO_CONVERSION   DB2INST1    T\n6     GOSALES            INVENTORY_LEVELS   DB2INST1    T\n7     GOSALES               ORDER_DETAILS   DB2INST1    T\n8     GOSALES                ORDER_HEADER   DB2INST1    T\n9     GOSALES                ORDER_METHOD   DB2INST1    T\n10    GOSALES                     PRODUCT   DB2INST1    T\n11    GOSALES               PRODUCT_BRAND   DB2INST1    T\n12    GOSALES        PRODUCT_COLOR_LOOKUP   DB2INST1    T\n13    GOSALES            PRODUCT_FORECAST   DB2INST1    T\n14    GOSALES                PRODUCT_LINE   DB2INST1    T\n15    GOSALES         PRODUCT_NAME_LOOKUP   DB2INST1    T\n16    GOSALES         PRODUCT_SIZE_LOOKUP   DB2INST1    T\n17    GOSALES                PRODUCT_TYPE   DB2INST1    T\n18    GOSALES               RETURNED_ITEM   DB2INST1    T\n19    GOSALES               RETURN_REASON   DB2INST1    T\n20    GOSALES                SALES_REGION   DB2INST1    T\n21    GOSALES                SALES_TARGET   DB2INST1    T\n22    GOSALES              TIME_DIMENSION   DB2INST1    T\n23    GOSALES         TIME_QUARTER_LOOKUP   DB2INST1    T\n24    GOSALES                      XGOREV   DB2INST1    T\n25  GOSALESDW      AGGR_TIME_PROD_OM_FACT   DB2INST1    T\n26  GOSALESDW                 BURST_TABLE   DB2INST1    T\n27  GOSALESDW                BURST_TABLE2   DB2INST1    T\n28  GOSALESDW         DIST_INVENTORY_FACT   DB2INST1    T\n29  GOSALESDW  DIST_PRODUCT_FORECAST_FACT   DB2INST1    T\n..        ...                         ...        ...  ...\n70  GOSALESDW     MRK_ACTIVITY_STATUS_DIM   DB2INST1    T\n71  GOSALESDW                MRK_ADV_FACT   DB2INST1    T\n72  GOSALESDW     MRK_BUNDLE_GROUP_LOOKUP   DB2INST1    T\n73  GOSALESDW         MRK_CAMPAIGN_LOOKUP   DB2INST1    T\n74  GOSALESDW      MRK_PRODUCT_SURVEY_DIM   DB2INST1    T\n75  GOSALESDW     MRK_PRODUCT_SURVEY_FACT   DB2INST1    T\n76  GOSALESDW   MRK_PROD_SURVEY_TARG_FACT   DB2INST1    T\n77  GOSALESDW           MRK_PROMOTION_DIM   DB2INST1    T\n78  GOSALESDW          MRK_PROMOTION_FACT   DB2INST1    T\n79  GOSALESDW     MRK_PROMOTION_PLAN_FACT   DB2INST1    T\n80  GOSALESDW          MRK_RTL_SURVEY_DIM   DB2INST1    T\n81  GOSALESDW         MRK_RTL_SURVEY_FACT   DB2INST1    T\n82  GOSALESDW    MRK_RTL_SURVEY_TARG_FACT   DB2INST1    T\n83  GOSALESDW        SLS_ORDER_METHOD_DIM   DB2INST1    T\n84  GOSALESDW    SLS_PRODUCT_BRAND_LOOKUP   DB2INST1    T\n85  GOSALESDW    SLS_PRODUCT_COLOR_LOOKUP   DB2INST1    T\n86  GOSALESDW             SLS_PRODUCT_DIM   DB2INST1    T\n87  GOSALESDW     SLS_PRODUCT_LINE_LOOKUP   DB2INST1    T\n88  GOSALESDW          SLS_PRODUCT_LOOKUP   DB2INST1    T\n89  GOSALESDW     SLS_PRODUCT_SIZE_LOOKUP   DB2INST1    T\n90  GOSALESDW     SLS_PRODUCT_TYPE_LOOKUP   DB2INST1    T\n91  GOSALESDW                 SLS_RTL_DIM   DB2INST1    T\n92  GOSALESDW              SLS_SALES_FACT   DB2INST1    T\n93  GOSALESDW         SLS_SALES_ORDER_DIM   DB2INST1    T\n94  GOSALESDW         SLS_SALES_TARG_FACT   DB2INST1    T\n95  GOSALESDW            VIEW_ACCOUNT_DIM   DB2INST1    V\n96  GOSALESDW       VIEW_BALANCED_ORG_DIM   DB2INST1    V\n97  GOSALESDW                VIEW_ORG_DIM   DB2INST1    V\n98  GOSALESDW           VIEW_PRODUCT_NAME   DB2INST1    V\n99  GOSALESDW         VIEW_STATEMENT_FACT   DB2INST1    V\n\n[100 rows x 4 columns]", 
                        "text/html": "<div>\n<table border=\"1\" class=\"dataframe\">\n  <thead>\n    <tr style=\"text-align: right;\">\n      <th></th>\n      <th>TABSCHEMA</th>\n      <th>TABNAME</th>\n      <th>OWNER</th>\n      <th>TYPE</th>\n    </tr>\n  </thead>\n  <tbody>\n    <tr>\n      <th>0</th>\n      <td>DASH14135</td>\n      <td>FEMALE_HUMAN_TRAFFICKING</td>\n      <td>DASH14135</td>\n      <td>T</td>\n    </tr>\n    <tr>\n      <th>1</th>\n      <td>GOSALES</td>\n      <td>BRANCH</td>\n      <td>DB2INST1</td>\n      <td>T</td>\n    </tr>\n    <tr>\n      <th>2</th>\n      <td>GOSALES</td>\n      <td>CONVERSION_RATE</td>\n      <td>DB2INST1</td>\n      <td>T</td>\n    </tr>\n    <tr>\n      <th>3</th>\n      <td>GOSALES</td>\n      <td>COUNTRY</td>\n      <td>DB2INST1</td>\n      <td>T</td>\n    </tr>\n    <tr>\n      <th>4</th>\n      <td>GOSALES</td>\n      <td>CURRENCY_LOOKUP</td>\n      <td>DB2INST1</td>\n      <td>T</td>\n    </tr>\n    <tr>\n      <th>5</th>\n      <td>GOSALES</td>\n      <td>EURO_CONVERSION</td>\n      <td>DB2INST1</td>\n      <td>T</td>\n    </tr>\n    <tr>\n      <th>6</th>\n      <td>GOSALES</td>\n      <td>INVENTORY_LEVELS</td>\n      <td>DB2INST1</td>\n      <td>T</td>\n    </tr>\n    <tr>\n      <th>7</th>\n      <td>GOSALES</td>\n      <td>ORDER_DETAILS</td>\n      <td>DB2INST1</td>\n      <td>T</td>\n    </tr>\n    <tr>\n      <th>8</th>\n      <td>GOSALES</td>\n      <td>ORDER_HEADER</td>\n      <td>DB2INST1</td>\n      <td>T</td>\n    </tr>\n    <tr>\n      <th>9</th>\n      <td>GOSALES</td>\n      <td>ORDER_METHOD</td>\n      <td>DB2INST1</td>\n      <td>T</td>\n    </tr>\n    <tr>\n      <th>10</th>\n      <td>GOSALES</td>\n      <td>PRODUCT</td>\n      <td>DB2INST1</td>\n      <td>T</td>\n    </tr>\n    <tr>\n      <th>11</th>\n      <td>GOSALES</td>\n      <td>PRODUCT_BRAND</td>\n      <td>DB2INST1</td>\n      <td>T</td>\n    </tr>\n    <tr>\n      <th>12</th>\n      <td>GOSALES</td>\n      <td>PRODUCT_COLOR_LOOKUP</td>\n      <td>DB2INST1</td>\n      <td>T</td>\n    </tr>\n    <tr>\n      <th>13</th>\n      <td>GOSALES</td>\n      <td>PRODUCT_FORECAST</td>\n      <td>DB2INST1</td>\n      <td>T</td>\n    </tr>\n    <tr>\n      <th>14</th>\n      <td>GOSALES</td>\n      <td>PRODUCT_LINE</td>\n      <td>DB2INST1</td>\n      <td>T</td>\n    </tr>\n    <tr>\n      <th>15</th>\n      <td>GOSALES</td>\n      <td>PRODUCT_NAME_LOOKUP</td>\n      <td>DB2INST1</td>\n      <td>T</td>\n    </tr>\n    <tr>\n      <th>16</th>\n      <td>GOSALES</td>\n      <td>PRODUCT_SIZE_LOOKUP</td>\n      <td>DB2INST1</td>\n      <td>T</td>\n    </tr>\n    <tr>\n      <th>17</th>\n      <td>GOSALES</td>\n      <td>PRODUCT_TYPE</td>\n      <td>DB2INST1</td>\n      <td>T</td>\n    </tr>\n    <tr>\n      <th>18</th>\n      <td>GOSALES</td>\n      <td>RETURNED_ITEM</td>\n      <td>DB2INST1</td>\n      <td>T</td>\n    </tr>\n    <tr>\n      <th>19</th>\n      <td>GOSALES</td>\n      <td>RETURN_REASON</td>\n      <td>DB2INST1</td>\n      <td>T</td>\n    </tr>\n    <tr>\n      <th>20</th>\n      <td>GOSALES</td>\n      <td>SALES_REGION</td>\n      <td>DB2INST1</td>\n      <td>T</td>\n    </tr>\n    <tr>\n      <th>21</th>\n      <td>GOSALES</td>\n      <td>SALES_TARGET</td>\n      <td>DB2INST1</td>\n      <td>T</td>\n    </tr>\n    <tr>\n      <th>22</th>\n      <td>GOSALES</td>\n      <td>TIME_DIMENSION</td>\n      <td>DB2INST1</td>\n      <td>T</td>\n    </tr>\n    <tr>\n      <th>23</th>\n      <td>GOSALES</td>\n      <td>TIME_QUARTER_LOOKUP</td>\n      <td>DB2INST1</td>\n      <td>T</td>\n    </tr>\n    <tr>\n      <th>24</th>\n      <td>GOSALES</td>\n      <td>XGOREV</td>\n      <td>DB2INST1</td>\n      <td>T</td>\n    </tr>\n    <tr>\n      <th>25</th>\n      <td>GOSALESDW</td>\n      <td>AGGR_TIME_PROD_OM_FACT</td>\n      <td>DB2INST1</td>\n      <td>T</td>\n    </tr>\n    <tr>\n      <th>26</th>\n      <td>GOSALESDW</td>\n      <td>BURST_TABLE</td>\n      <td>DB2INST1</td>\n      <td>T</td>\n    </tr>\n    <tr>\n      <th>27</th>\n      <td>GOSALESDW</td>\n      <td>BURST_TABLE2</td>\n      <td>DB2INST1</td>\n      <td>T</td>\n    </tr>\n    <tr>\n      <th>28</th>\n      <td>GOSALESDW</td>\n      <td>DIST_INVENTORY_FACT</td>\n      <td>DB2INST1</td>\n      <td>T</td>\n    </tr>\n    <tr>\n      <th>29</th>\n      <td>GOSALESDW</td>\n      <td>DIST_PRODUCT_FORECAST_FACT</td>\n      <td>DB2INST1</td>\n      <td>T</td>\n    </tr>\n    <tr>\n      <th>...</th>\n      <td>...</td>\n      <td>...</td>\n      <td>...</td>\n      <td>...</td>\n    </tr>\n    <tr>\n      <th>70</th>\n      <td>GOSALESDW</td>\n      <td>MRK_ACTIVITY_STATUS_DIM</td>\n      <td>DB2INST1</td>\n      <td>T</td>\n    </tr>\n    <tr>\n      <th>71</th>\n      <td>GOSALESDW</td>\n      <td>MRK_ADV_FACT</td>\n      <td>DB2INST1</td>\n      <td>T</td>\n    </tr>\n    <tr>\n      <th>72</th>\n      <td>GOSALESDW</td>\n      <td>MRK_BUNDLE_GROUP_LOOKUP</td>\n      <td>DB2INST1</td>\n      <td>T</td>\n    </tr>\n    <tr>\n      <th>73</th>\n      <td>GOSALESDW</td>\n      <td>MRK_CAMPAIGN_LOOKUP</td>\n      <td>DB2INST1</td>\n      <td>T</td>\n    </tr>\n    <tr>\n      <th>74</th>\n      <td>GOSALESDW</td>\n      <td>MRK_PRODUCT_SURVEY_DIM</td>\n      <td>DB2INST1</td>\n      <td>T</td>\n    </tr>\n    <tr>\n      <th>75</th>\n      <td>GOSALESDW</td>\n      <td>MRK_PRODUCT_SURVEY_FACT</td>\n      <td>DB2INST1</td>\n      <td>T</td>\n    </tr>\n    <tr>\n      <th>76</th>\n      <td>GOSALESDW</td>\n      <td>MRK_PROD_SURVEY_TARG_FACT</td>\n      <td>DB2INST1</td>\n      <td>T</td>\n    </tr>\n    <tr>\n      <th>77</th>\n      <td>GOSALESDW</td>\n      <td>MRK_PROMOTION_DIM</td>\n      <td>DB2INST1</td>\n      <td>T</td>\n    </tr>\n    <tr>\n      <th>78</th>\n      <td>GOSALESDW</td>\n      <td>MRK_PROMOTION_FACT</td>\n      <td>DB2INST1</td>\n      <td>T</td>\n    </tr>\n    <tr>\n      <th>79</th>\n      <td>GOSALESDW</td>\n      <td>MRK_PROMOTION_PLAN_FACT</td>\n      <td>DB2INST1</td>\n      <td>T</td>\n    </tr>\n    <tr>\n      <th>80</th>\n      <td>GOSALESDW</td>\n      <td>MRK_RTL_SURVEY_DIM</td>\n      <td>DB2INST1</td>\n      <td>T</td>\n    </tr>\n    <tr>\n      <th>81</th>\n      <td>GOSALESDW</td>\n      <td>MRK_RTL_SURVEY_FACT</td>\n      <td>DB2INST1</td>\n      <td>T</td>\n    </tr>\n    <tr>\n      <th>82</th>\n      <td>GOSALESDW</td>\n      <td>MRK_RTL_SURVEY_TARG_FACT</td>\n      <td>DB2INST1</td>\n      <td>T</td>\n    </tr>\n    <tr>\n      <th>83</th>\n      <td>GOSALESDW</td>\n      <td>SLS_ORDER_METHOD_DIM</td>\n      <td>DB2INST1</td>\n      <td>T</td>\n    </tr>\n    <tr>\n      <th>84</th>\n      <td>GOSALESDW</td>\n      <td>SLS_PRODUCT_BRAND_LOOKUP</td>\n      <td>DB2INST1</td>\n      <td>T</td>\n    </tr>\n    <tr>\n      <th>85</th>\n      <td>GOSALESDW</td>\n      <td>SLS_PRODUCT_COLOR_LOOKUP</td>\n      <td>DB2INST1</td>\n      <td>T</td>\n    </tr>\n    <tr>\n      <th>86</th>\n      <td>GOSALESDW</td>\n      <td>SLS_PRODUCT_DIM</td>\n      <td>DB2INST1</td>\n      <td>T</td>\n    </tr>\n    <tr>\n      <th>87</th>\n      <td>GOSALESDW</td>\n      <td>SLS_PRODUCT_LINE_LOOKUP</td>\n      <td>DB2INST1</td>\n      <td>T</td>\n    </tr>\n    <tr>\n      <th>88</th>\n      <td>GOSALESDW</td>\n      <td>SLS_PRODUCT_LOOKUP</td>\n      <td>DB2INST1</td>\n      <td>T</td>\n    </tr>\n    <tr>\n      <th>89</th>\n      <td>GOSALESDW</td>\n      <td>SLS_PRODUCT_SIZE_LOOKUP</td>\n      <td>DB2INST1</td>\n      <td>T</td>\n    </tr>\n    <tr>\n      <th>90</th>\n      <td>GOSALESDW</td>\n      <td>SLS_PRODUCT_TYPE_LOOKUP</td>\n      <td>DB2INST1</td>\n      <td>T</td>\n    </tr>\n    <tr>\n      <th>91</th>\n      <td>GOSALESDW</td>\n      <td>SLS_RTL_DIM</td>\n      <td>DB2INST1</td>\n      <td>T</td>\n    </tr>\n    <tr>\n      <th>92</th>\n      <td>GOSALESDW</td>\n      <td>SLS_SALES_FACT</td>\n      <td>DB2INST1</td>\n      <td>T</td>\n    </tr>\n    <tr>\n      <th>93</th>\n      <td>GOSALESDW</td>\n      <td>SLS_SALES_ORDER_DIM</td>\n      <td>DB2INST1</td>\n      <td>T</td>\n    </tr>\n    <tr>\n      <th>94</th>\n      <td>GOSALESDW</td>\n      <td>SLS_SALES_TARG_FACT</td>\n      <td>DB2INST1</td>\n      <td>T</td>\n    </tr>\n    <tr>\n      <th>95</th>\n      <td>GOSALESDW</td>\n      <td>VIEW_ACCOUNT_DIM</td>\n      <td>DB2INST1</td>\n      <td>V</td>\n    </tr>\n    <tr>\n      <th>96</th>\n      <td>GOSALESDW</td>\n      <td>VIEW_BALANCED_ORG_DIM</td>\n      <td>DB2INST1</td>\n      <td>V</td>\n    </tr>\n    <tr>\n      <th>97</th>\n      <td>GOSALESDW</td>\n      <td>VIEW_ORG_DIM</td>\n      <td>DB2INST1</td>\n      <td>V</td>\n    </tr>\n    <tr>\n      <th>98</th>\n      <td>GOSALESDW</td>\n      <td>VIEW_PRODUCT_NAME</td>\n      <td>DB2INST1</td>\n      <td>V</td>\n    </tr>\n    <tr>\n      <th>99</th>\n      <td>GOSALESDW</td>\n      <td>VIEW_STATEMENT_FACT</td>\n      <td>DB2INST1</td>\n      <td>V</td>\n    </tr>\n  </tbody>\n</table>\n<p>100 rows \u00d7 4 columns</p>\n</div>"
                    }
                }
            ], 
            "execution_count": 25, 
            "cell_type": "code"
        }, 
        {
            "metadata": {}, 
            "source": "idadb.exists_table_or_view('GOSALESDW.EMP_EXPENSE_FACT')", 
            "outputs": [
                {
                    "output_type": "execute_result", 
                    "execution_count": 6, 
                    "metadata": {}, 
                    "data": {
                        "text/plain": "True"
                    }
                }
            ], 
            "execution_count": 6, 
            "cell_type": "code"
        }, 
        {
            "source": "Using our previously opened IdaDataBase instance named \u2018idadb\u2019, we can open one or several IdaDataFrame objects. They behave like pointers to remote tables.\n\nLet us open the *EMP_EXPENSE_FACT* data set, assuming it is stored in the database under the name \u2018GOSALESDW.EMP_EXPENSE_FACT\u2019. The following cell assigns the dataset to a pandas DataFrame.\n\nThe [Pandas data analysis library](http://pandas.pydata.org/) provides high-performance, easy-to-use data structures and data analysis tools for the Python programming language. Pandas allows easy processing and manipulation of tabular data, so it is a perfect fit for data extracted from relational databases.\n", 
            "metadata": {}, 
            "cell_type": "markdown"
        }, 
        {
            "metadata": {}, 
            "source": "idadf = IdaDataFrame(idadb, 'GOSALESDW.EMP_EXPENSE_FACT')\nidadf.dtypes", 
            "outputs": [
                {
                    "output_type": "execute_result", 
                    "execution_count": 7, 
                    "metadata": {}, 
                    "data": {
                        "text/plain": "                      TYPENAME\nDAY_KEY                INTEGER\nORGANIZATION_KEY       INTEGER\nPOSITION_KEY           INTEGER\nEMPLOYEE_KEY           INTEGER\nEXPENSE_TYPE_KEY       INTEGER\nACCOUNT_KEY            INTEGER\nEXPENSE_UNIT_QUANTITY   DOUBLE\nEXPENSE_TOTAL          DECIMAL", 
                        "text/html": "<div>\n<table border=\"1\" class=\"dataframe\">\n  <thead>\n    <tr style=\"text-align: right;\">\n      <th></th>\n      <th>TYPENAME</th>\n    </tr>\n  </thead>\n  <tbody>\n    <tr>\n      <th>DAY_KEY</th>\n      <td>INTEGER</td>\n    </tr>\n    <tr>\n      <th>ORGANIZATION_KEY</th>\n      <td>INTEGER</td>\n    </tr>\n    <tr>\n      <th>POSITION_KEY</th>\n      <td>INTEGER</td>\n    </tr>\n    <tr>\n      <th>EMPLOYEE_KEY</th>\n      <td>INTEGER</td>\n    </tr>\n    <tr>\n      <th>EXPENSE_TYPE_KEY</th>\n      <td>INTEGER</td>\n    </tr>\n    <tr>\n      <th>ACCOUNT_KEY</th>\n      <td>INTEGER</td>\n    </tr>\n    <tr>\n      <th>EXPENSE_UNIT_QUANTITY</th>\n      <td>DOUBLE</td>\n    </tr>\n    <tr>\n      <th>EXPENSE_TOTAL</th>\n      <td>DECIMAL</td>\n    </tr>\n  </tbody>\n</table>\n</div>"
                    }
                }
            ], 
            "execution_count": 7, 
            "cell_type": "code"
        }, 
        {
            "source": "You can very easily explore the data in the IdaDataFrame by using built in functions.\n\nUse IdaDataFrame.head to get the first n records of your data set (default 5):", 
            "metadata": {}, 
            "cell_type": "markdown"
        }, 
        {
            "metadata": {}, 
            "source": "idadf.head()", 
            "outputs": [
                {
                    "output_type": "execute_result", 
                    "execution_count": 8, 
                    "metadata": {}, 
                    "data": {
                        "text/plain": "    DAY_KEY  ORGANIZATION_KEY  POSITION_KEY  EMPLOYEE_KEY  EXPENSE_TYPE_KEY  \\\n0  20100131             11188         43610          4898              2131   \n1  20100131             11188         43610          4898              2104   \n2  20100131             11188         43610          4898              2120   \n3  20100131             11188         43610          4898              2122   \n4  20100131             11188         43610          4898              2124   \n\n   ACCOUNT_KEY  EXPENSE_UNIT_QUANTITY  EXPENSE_TOTAL  \n0         8049                 150.00        5635.20  \n1         8050                  15.00         563.52  \n2         8052                   0.08         495.90  \n3         8054                   0.11         681.86  \n4         8056                   0.03         185.96  ", 
                        "text/html": "<div>\n<table border=\"1\" class=\"dataframe\">\n  <thead>\n    <tr style=\"text-align: right;\">\n      <th></th>\n      <th>DAY_KEY</th>\n      <th>ORGANIZATION_KEY</th>\n      <th>POSITION_KEY</th>\n      <th>EMPLOYEE_KEY</th>\n      <th>EXPENSE_TYPE_KEY</th>\n      <th>ACCOUNT_KEY</th>\n      <th>EXPENSE_UNIT_QUANTITY</th>\n      <th>EXPENSE_TOTAL</th>\n    </tr>\n  </thead>\n  <tbody>\n    <tr>\n      <th>0</th>\n      <td>20100131</td>\n      <td>11188</td>\n      <td>43610</td>\n      <td>4898</td>\n      <td>2131</td>\n      <td>8049</td>\n      <td>150.00</td>\n      <td>5635.20</td>\n    </tr>\n    <tr>\n      <th>1</th>\n      <td>20100131</td>\n      <td>11188</td>\n      <td>43610</td>\n      <td>4898</td>\n      <td>2104</td>\n      <td>8050</td>\n      <td>15.00</td>\n      <td>563.52</td>\n    </tr>\n    <tr>\n      <th>2</th>\n      <td>20100131</td>\n      <td>11188</td>\n      <td>43610</td>\n      <td>4898</td>\n      <td>2120</td>\n      <td>8052</td>\n      <td>0.08</td>\n      <td>495.90</td>\n    </tr>\n    <tr>\n      <th>3</th>\n      <td>20100131</td>\n      <td>11188</td>\n      <td>43610</td>\n      <td>4898</td>\n      <td>2122</td>\n      <td>8054</td>\n      <td>0.11</td>\n      <td>681.86</td>\n    </tr>\n    <tr>\n      <th>4</th>\n      <td>20100131</td>\n      <td>11188</td>\n      <td>43610</td>\n      <td>4898</td>\n      <td>2124</td>\n      <td>8056</td>\n      <td>0.03</td>\n      <td>185.96</td>\n    </tr>\n  </tbody>\n</table>\n</div>"
                    }
                }
            ], 
            "execution_count": 8, 
            "cell_type": "code"
        }, 
        {
            "source": "Use IdaDataFrame.tail to get the last n records of your data set (default 5):", 
            "metadata": {}, 
            "cell_type": "markdown"
        }, 
        {
            "metadata": {
                "scrolled": true
            }, 
            "source": "idadf.tail(10)", 
            "outputs": [
                {
                    "output_type": "execute_result", 
                    "execution_count": 9, 
                    "metadata": {}, 
                    "data": {
                        "text/plain": "         DAY_KEY  ORGANIZATION_KEY  POSITION_KEY  EMPLOYEE_KEY  \\\n127974  20130731             11108         43638          4272   \n127975  20130731             11108         43638          4272   \n127976  20130731             11203         43630          4273   \n127977  20130731             11203         43630          4273   \n127978  20130731             11203         43630          4273   \n127979  20130731             11203         43630          4273   \n127980  20130731             11203         43630          4274   \n127981  20130731             11203         43630          4274   \n127982  20130731             11203         43630          4274   \n127983  20130731             11203         43630          4274   \n\n        EXPENSE_TYPE_KEY  ACCOUNT_KEY  EXPENSE_UNIT_QUANTITY  EXPENSE_TOTAL  \n127974              2130         8050                  0.005        6035.60  \n127975              2131         8049                150.000        3379.95  \n127976              2101         8049                165.000        2047.69  \n127977              2120         8052                  0.080         163.82  \n127978              2122         8054                  0.110         225.25  \n127979              2124         8056                  0.030          61.43  \n127980              2101         8049                165.000        2047.69  \n127981              2120         8052                  0.080         163.82  \n127982              2122         8054                  0.110         225.25  \n127983              2124         8056                  0.030          61.43  ", 
                        "text/html": "<div>\n<table border=\"1\" class=\"dataframe\">\n  <thead>\n    <tr style=\"text-align: right;\">\n      <th></th>\n      <th>DAY_KEY</th>\n      <th>ORGANIZATION_KEY</th>\n      <th>POSITION_KEY</th>\n      <th>EMPLOYEE_KEY</th>\n      <th>EXPENSE_TYPE_KEY</th>\n      <th>ACCOUNT_KEY</th>\n      <th>EXPENSE_UNIT_QUANTITY</th>\n      <th>EXPENSE_TOTAL</th>\n    </tr>\n  </thead>\n  <tbody>\n    <tr>\n      <th>127974</th>\n      <td>20130731</td>\n      <td>11108</td>\n      <td>43638</td>\n      <td>4272</td>\n      <td>2130</td>\n      <td>8050</td>\n      <td>0.005</td>\n      <td>6035.60</td>\n    </tr>\n    <tr>\n      <th>127975</th>\n      <td>20130731</td>\n      <td>11108</td>\n      <td>43638</td>\n      <td>4272</td>\n      <td>2131</td>\n      <td>8049</td>\n      <td>150.000</td>\n      <td>3379.95</td>\n    </tr>\n    <tr>\n      <th>127976</th>\n      <td>20130731</td>\n      <td>11203</td>\n      <td>43630</td>\n      <td>4273</td>\n      <td>2101</td>\n      <td>8049</td>\n      <td>165.000</td>\n      <td>2047.69</td>\n    </tr>\n    <tr>\n      <th>127977</th>\n      <td>20130731</td>\n      <td>11203</td>\n      <td>43630</td>\n      <td>4273</td>\n      <td>2120</td>\n      <td>8052</td>\n      <td>0.080</td>\n      <td>163.82</td>\n    </tr>\n    <tr>\n      <th>127978</th>\n      <td>20130731</td>\n      <td>11203</td>\n      <td>43630</td>\n      <td>4273</td>\n      <td>2122</td>\n      <td>8054</td>\n      <td>0.110</td>\n      <td>225.25</td>\n    </tr>\n    <tr>\n      <th>127979</th>\n      <td>20130731</td>\n      <td>11203</td>\n      <td>43630</td>\n      <td>4273</td>\n      <td>2124</td>\n      <td>8056</td>\n      <td>0.030</td>\n      <td>61.43</td>\n    </tr>\n    <tr>\n      <th>127980</th>\n      <td>20130731</td>\n      <td>11203</td>\n      <td>43630</td>\n      <td>4274</td>\n      <td>2101</td>\n      <td>8049</td>\n      <td>165.000</td>\n      <td>2047.69</td>\n    </tr>\n    <tr>\n      <th>127981</th>\n      <td>20130731</td>\n      <td>11203</td>\n      <td>43630</td>\n      <td>4274</td>\n      <td>2120</td>\n      <td>8052</td>\n      <td>0.080</td>\n      <td>163.82</td>\n    </tr>\n    <tr>\n      <th>127982</th>\n      <td>20130731</td>\n      <td>11203</td>\n      <td>43630</td>\n      <td>4274</td>\n      <td>2122</td>\n      <td>8054</td>\n      <td>0.110</td>\n      <td>225.25</td>\n    </tr>\n    <tr>\n      <th>127983</th>\n      <td>20130731</td>\n      <td>11203</td>\n      <td>43630</td>\n      <td>4274</td>\n      <td>2124</td>\n      <td>8056</td>\n      <td>0.030</td>\n      <td>61.43</td>\n    </tr>\n  </tbody>\n</table>\n</div>"
                    }
                }
            ], 
            "execution_count": 9, 
            "cell_type": "code"
        }, 
        {
            "source": "__Note__: Because dashDB operates on a distributed system, the order of rows using IdaDataFrame.head and IdaDataFrame.tail is not guaranteed unless the table is sorted (using an \u2018ORDER BY\u2019 clause) or a column is declared as index for the IdaDataFrame (parameter/attribute indexer).\n\nIdaDataFrame also implements most attributes that are available in a pandas DataFrame, here is an example of getting the _shape_ of the data frame (rows, columns):", 
            "metadata": {}, 
            "cell_type": "markdown"
        }, 
        {
            "metadata": {}, 
            "source": "idadf.shape", 
            "outputs": [
                {
                    "output_type": "execute_result", 
                    "execution_count": 10, 
                    "metadata": {}, 
                    "data": {
                        "text/plain": "(127984, 8)"
                    }
                }
            ], 
            "execution_count": 10, 
            "cell_type": "code"
        }, 
        {
            "metadata": {}, 
            "source": "idadf.columns", 
            "outputs": [
                {
                    "output_type": "execute_result", 
                    "execution_count": 11, 
                    "metadata": {}, 
                    "data": {
                        "text/plain": "Index(['DAY_KEY', 'ORGANIZATION_KEY', 'POSITION_KEY', 'EMPLOYEE_KEY',\n       'EXPENSE_TYPE_KEY', 'ACCOUNT_KEY', 'EXPENSE_UNIT_QUANTITY',\n       'EXPENSE_TOTAL'],\n      dtype='object')"
                    }
                }
            ], 
            "execution_count": 11, 
            "cell_type": "code"
        }, 
        {
            "source": "Several standard statistics functions from the pandas interface are also available for IdaDataFrame.  You can use the __TAB__ key after the `.` to see the methods and attributes available in an object in a pulldown menu. \n\nFor example, let us calculate various summary statistics for the data set by using the `describe` method for the IdaDataFrame instance:", 
            "metadata": {}, 
            "cell_type": "markdown"
        }, 
        {
            "metadata": {}, 
            "source": "idadf.describe()", 
            "outputs": [
                {
                    "output_type": "execute_result", 
                    "execution_count": 12, 
                    "metadata": {}, 
                    "data": {
                        "text/plain": "            DAY_KEY  ORGANIZATION_KEY   POSITION_KEY   EMPLOYEE_KEY  \\\ncount  1.279840e+05     127984.000000  127984.000000  127984.000000   \nmean   2.011514e+07      11157.820524   43627.441797    4489.672811   \nstd    1.036554e+04         31.272648      12.175158     298.987628   \nmin    2.010013e+07      11101.000000   43601.000000    4001.000000   \n25%    2.011013e+07      11131.000000   43617.000000    4216.000000   \n50%    2.011123e+07      11166.000000   43630.000000    4480.000000   \n75%    2.012103e+07      11182.000000   43637.000000    4763.000000   \nmax    2.013073e+07      11204.000000   43656.000000    4972.000000   \n\n       EXPENSE_TYPE_KEY    ACCOUNT_KEY  EXPENSE_UNIT_QUANTITY  EXPENSE_TOTAL  \ncount     127984.000000  127984.000000          127984.000000  127984.000000  \nmean        2120.315289    8052.091636              31.291244    1318.107960  \nstd            9.386336       2.532779              57.717638    2078.720318  \nmin         2101.000000    8049.000000             -15.000000    -658.010000  \n25%         2120.000000    8050.000000               0.080000     211.280000  \n50%         2122.000000    8052.000000               0.110000     438.045000  \n75%         2124.000000    8054.000000              16.250000    1598.345000  \nmax         2137.000000    8056.000000             172.500000   28776.920000  ", 
                        "text/html": "<div>\n<table border=\"1\" class=\"dataframe\">\n  <thead>\n    <tr style=\"text-align: right;\">\n      <th></th>\n      <th>DAY_KEY</th>\n      <th>ORGANIZATION_KEY</th>\n      <th>POSITION_KEY</th>\n      <th>EMPLOYEE_KEY</th>\n      <th>EXPENSE_TYPE_KEY</th>\n      <th>ACCOUNT_KEY</th>\n      <th>EXPENSE_UNIT_QUANTITY</th>\n      <th>EXPENSE_TOTAL</th>\n    </tr>\n  </thead>\n  <tbody>\n    <tr>\n      <th>count</th>\n      <td>1.279840e+05</td>\n      <td>127984.000000</td>\n      <td>127984.000000</td>\n      <td>127984.000000</td>\n      <td>127984.000000</td>\n      <td>127984.000000</td>\n      <td>127984.000000</td>\n      <td>127984.000000</td>\n    </tr>\n    <tr>\n      <th>mean</th>\n      <td>2.011514e+07</td>\n      <td>11157.820524</td>\n      <td>43627.441797</td>\n      <td>4489.672811</td>\n      <td>2120.315289</td>\n      <td>8052.091636</td>\n      <td>31.291244</td>\n      <td>1318.107960</td>\n    </tr>\n    <tr>\n      <th>std</th>\n      <td>1.036554e+04</td>\n      <td>31.272648</td>\n      <td>12.175158</td>\n      <td>298.987628</td>\n      <td>9.386336</td>\n      <td>2.532779</td>\n      <td>57.717638</td>\n      <td>2078.720318</td>\n    </tr>\n    <tr>\n      <th>min</th>\n      <td>2.010013e+07</td>\n      <td>11101.000000</td>\n      <td>43601.000000</td>\n      <td>4001.000000</td>\n      <td>2101.000000</td>\n      <td>8049.000000</td>\n      <td>-15.000000</td>\n      <td>-658.010000</td>\n    </tr>\n    <tr>\n      <th>25%</th>\n      <td>2.011013e+07</td>\n      <td>11131.000000</td>\n      <td>43617.000000</td>\n      <td>4216.000000</td>\n      <td>2120.000000</td>\n      <td>8050.000000</td>\n      <td>0.080000</td>\n      <td>211.280000</td>\n    </tr>\n    <tr>\n      <th>50%</th>\n      <td>2.011123e+07</td>\n      <td>11166.000000</td>\n      <td>43630.000000</td>\n      <td>4480.000000</td>\n      <td>2122.000000</td>\n      <td>8052.000000</td>\n      <td>0.110000</td>\n      <td>438.045000</td>\n    </tr>\n    <tr>\n      <th>75%</th>\n      <td>2.012103e+07</td>\n      <td>11182.000000</td>\n      <td>43637.000000</td>\n      <td>4763.000000</td>\n      <td>2124.000000</td>\n      <td>8054.000000</td>\n      <td>16.250000</td>\n      <td>1598.345000</td>\n    </tr>\n    <tr>\n      <th>max</th>\n      <td>2.013073e+07</td>\n      <td>11204.000000</td>\n      <td>43656.000000</td>\n      <td>4972.000000</td>\n      <td>2137.000000</td>\n      <td>8056.000000</td>\n      <td>172.500000</td>\n      <td>28776.920000</td>\n    </tr>\n  </tbody>\n</table>\n</div>"
                    }
                }
            ], 
            "execution_count": 12, 
            "cell_type": "code"
        }, 
        {
            "source": "__Note__: It is possible to subset the rows of an IdaDataFrame by accessing the IdaDataFrame with a slice object. You can also use the IdaDataFrame.loc attribute, which contains an ibmdbpy.Loc object. However, the row selection might be inaccurate if the current IdaDataFrame is not sorted or does not contain an indexer. This is due to the fact that dashDB stores the data across several nodes if available. Moreover, because dashDB is a column oriented database, row numbers are undefined:", 
            "metadata": {}, 
            "cell_type": "markdown"
        }, 
        {
            "metadata": {
                "scrolled": true
            }, 
            "source": "idadf_new = idadf[0:9] # Select the first 10 rows\nidadf_new.head(10)", 
            "outputs": [
                {
                    "name": "stderr", 
                    "output_type": "stream", 
                    "text": "/usr/local/src/conda3_runtime.v11/4.1.1/lib/python3.5/site-packages/ibmdbpy/indexing.py:118: UserWarning: Row order is not guaranteed if no indexer was given and the dataset was not sorted\n  \" was given and the dataset was not sorted\")\n"
                }, 
                {
                    "output_type": "execute_result", 
                    "execution_count": 13, 
                    "metadata": {}, 
                    "data": {
                        "text/plain": "    DAY_KEY  ORGANIZATION_KEY  POSITION_KEY  EMPLOYEE_KEY  EXPENSE_TYPE_KEY  \\\n0  20130630             11117         43620          4454              2120   \n1  20130630             11117         43620          4454              2133   \n2  20130630             11117         43620          4454              2124   \n3  20130630             11117         43620          4454              2122   \n4  20130731             11117         43620          4454              2101   \n5  20130731             11117         43620          4454              2137   \n6  20130731             11117         43620          4454              2124   \n7  20130731             11117         43620          4454              2122   \n8  20130731             11117         43620          4454              2120   \n9  20130731             11117         43620          4454              2104   \n\n   ACCOUNT_KEY  EXPENSE_UNIT_QUANTITY  EXPENSE_TOTAL  \n0         8052                   0.08         156.34  \n1         8050                  15.00        2000.00  \n2         8056                   0.03          58.63  \n3         8054                   0.11         214.97  \n4         8049                 150.00        1692.31  \n5         8050                   7.50         500.00  \n6         8056                   0.03          55.85  \n7         8054                   0.11         204.77  \n8         8052                   0.08         148.92  \n9         8050                  15.00         169.23  ", 
                        "text/html": "<div>\n<table border=\"1\" class=\"dataframe\">\n  <thead>\n    <tr style=\"text-align: right;\">\n      <th></th>\n      <th>DAY_KEY</th>\n      <th>ORGANIZATION_KEY</th>\n      <th>POSITION_KEY</th>\n      <th>EMPLOYEE_KEY</th>\n      <th>EXPENSE_TYPE_KEY</th>\n      <th>ACCOUNT_KEY</th>\n      <th>EXPENSE_UNIT_QUANTITY</th>\n      <th>EXPENSE_TOTAL</th>\n    </tr>\n  </thead>\n  <tbody>\n    <tr>\n      <th>0</th>\n      <td>20130630</td>\n      <td>11117</td>\n      <td>43620</td>\n      <td>4454</td>\n      <td>2120</td>\n      <td>8052</td>\n      <td>0.08</td>\n      <td>156.34</td>\n    </tr>\n    <tr>\n      <th>1</th>\n      <td>20130630</td>\n      <td>11117</td>\n      <td>43620</td>\n      <td>4454</td>\n      <td>2133</td>\n      <td>8050</td>\n      <td>15.00</td>\n      <td>2000.00</td>\n    </tr>\n    <tr>\n      <th>2</th>\n      <td>20130630</td>\n      <td>11117</td>\n      <td>43620</td>\n      <td>4454</td>\n      <td>2124</td>\n      <td>8056</td>\n      <td>0.03</td>\n      <td>58.63</td>\n    </tr>\n    <tr>\n      <th>3</th>\n      <td>20130630</td>\n      <td>11117</td>\n      <td>43620</td>\n      <td>4454</td>\n      <td>2122</td>\n      <td>8054</td>\n      <td>0.11</td>\n      <td>214.97</td>\n    </tr>\n    <tr>\n      <th>4</th>\n      <td>20130731</td>\n      <td>11117</td>\n      <td>43620</td>\n      <td>4454</td>\n      <td>2101</td>\n      <td>8049</td>\n      <td>150.00</td>\n      <td>1692.31</td>\n    </tr>\n    <tr>\n      <th>5</th>\n      <td>20130731</td>\n      <td>11117</td>\n      <td>43620</td>\n      <td>4454</td>\n      <td>2137</td>\n      <td>8050</td>\n      <td>7.50</td>\n      <td>500.00</td>\n    </tr>\n    <tr>\n      <th>6</th>\n      <td>20130731</td>\n      <td>11117</td>\n      <td>43620</td>\n      <td>4454</td>\n      <td>2124</td>\n      <td>8056</td>\n      <td>0.03</td>\n      <td>55.85</td>\n    </tr>\n    <tr>\n      <th>7</th>\n      <td>20130731</td>\n      <td>11117</td>\n      <td>43620</td>\n      <td>4454</td>\n      <td>2122</td>\n      <td>8054</td>\n      <td>0.11</td>\n      <td>204.77</td>\n    </tr>\n    <tr>\n      <th>8</th>\n      <td>20130731</td>\n      <td>11117</td>\n      <td>43620</td>\n      <td>4454</td>\n      <td>2120</td>\n      <td>8052</td>\n      <td>0.08</td>\n      <td>148.92</td>\n    </tr>\n    <tr>\n      <th>9</th>\n      <td>20130731</td>\n      <td>11117</td>\n      <td>43620</td>\n      <td>4454</td>\n      <td>2104</td>\n      <td>8050</td>\n      <td>15.00</td>\n      <td>169.23</td>\n    </tr>\n  </tbody>\n</table>\n</div>"
                    }
                }
            ], 
            "execution_count": 13, 
            "cell_type": "code"
        }, 
        {
            "source": "## Use SQL\nWe can also use SQL to get the top 10.", 
            "metadata": {}, 
            "cell_type": "markdown"
        }, 
        {
            "metadata": {}, 
            "source": "top_10_df = idadb.ida_query('SELECT * FROM GOSALESDW.EMP_EXPENSE_FACT LIMIT 10')\ntop_10_df", 
            "outputs": [
                {
                    "output_type": "execute_result", 
                    "execution_count": 14, 
                    "metadata": {}, 
                    "data": {
                        "text/plain": "    DAY_KEY  ORGANIZATION_KEY  POSITION_KEY  EMPLOYEE_KEY  EXPENSE_TYPE_KEY  \\\n0  20100131             11101         43639          4001              2120   \n1  20100131             11101         43639          4001              2122   \n2  20100131             11101         43639          4001              2124   \n3  20100131             11101         43639          4001              2130   \n4  20100131             11101         43639          4001              2131   \n5  20100131             11101         43639          4001              2133   \n6  20100131             11101         43639          4001              2137   \n7  20100228             11101         43639          4001              2120   \n8  20100228             11101         43639          4001              2122   \n9  20100228             11101         43639          4001              2124   \n\n   ACCOUNT_KEY  EXPENSE_UNIT_QUANTITY  EXPENSE_TOTAL  \n0         8052                  0.080         513.35  \n1         8054                  0.110         705.86  \n2         8056                  0.030         192.51  \n3         8050                  0.005        2291.88  \n4         8049                165.000        4125.00  \n5         8050                 15.000        2000.00  \n6         8050                  7.500         500.00  \n7         8052                  0.080         411.03  \n8         8054                  0.110         565.16  \n9         8056                  0.030         154.14  ", 
                        "text/html": "<div>\n<table border=\"1\" class=\"dataframe\">\n  <thead>\n    <tr style=\"text-align: right;\">\n      <th></th>\n      <th>DAY_KEY</th>\n      <th>ORGANIZATION_KEY</th>\n      <th>POSITION_KEY</th>\n      <th>EMPLOYEE_KEY</th>\n      <th>EXPENSE_TYPE_KEY</th>\n      <th>ACCOUNT_KEY</th>\n      <th>EXPENSE_UNIT_QUANTITY</th>\n      <th>EXPENSE_TOTAL</th>\n    </tr>\n  </thead>\n  <tbody>\n    <tr>\n      <th>0</th>\n      <td>20100131</td>\n      <td>11101</td>\n      <td>43639</td>\n      <td>4001</td>\n      <td>2120</td>\n      <td>8052</td>\n      <td>0.080</td>\n      <td>513.35</td>\n    </tr>\n    <tr>\n      <th>1</th>\n      <td>20100131</td>\n      <td>11101</td>\n      <td>43639</td>\n      <td>4001</td>\n      <td>2122</td>\n      <td>8054</td>\n      <td>0.110</td>\n      <td>705.86</td>\n    </tr>\n    <tr>\n      <th>2</th>\n      <td>20100131</td>\n      <td>11101</td>\n      <td>43639</td>\n      <td>4001</td>\n      <td>2124</td>\n      <td>8056</td>\n      <td>0.030</td>\n      <td>192.51</td>\n    </tr>\n    <tr>\n      <th>3</th>\n      <td>20100131</td>\n      <td>11101</td>\n      <td>43639</td>\n      <td>4001</td>\n      <td>2130</td>\n      <td>8050</td>\n      <td>0.005</td>\n      <td>2291.88</td>\n    </tr>\n    <tr>\n      <th>4</th>\n      <td>20100131</td>\n      <td>11101</td>\n      <td>43639</td>\n      <td>4001</td>\n      <td>2131</td>\n      <td>8049</td>\n      <td>165.000</td>\n      <td>4125.00</td>\n    </tr>\n    <tr>\n      <th>5</th>\n      <td>20100131</td>\n      <td>11101</td>\n      <td>43639</td>\n      <td>4001</td>\n      <td>2133</td>\n      <td>8050</td>\n      <td>15.000</td>\n      <td>2000.00</td>\n    </tr>\n    <tr>\n      <th>6</th>\n      <td>20100131</td>\n      <td>11101</td>\n      <td>43639</td>\n      <td>4001</td>\n      <td>2137</td>\n      <td>8050</td>\n      <td>7.500</td>\n      <td>500.00</td>\n    </tr>\n    <tr>\n      <th>7</th>\n      <td>20100228</td>\n      <td>11101</td>\n      <td>43639</td>\n      <td>4001</td>\n      <td>2120</td>\n      <td>8052</td>\n      <td>0.080</td>\n      <td>411.03</td>\n    </tr>\n    <tr>\n      <th>8</th>\n      <td>20100228</td>\n      <td>11101</td>\n      <td>43639</td>\n      <td>4001</td>\n      <td>2122</td>\n      <td>8054</td>\n      <td>0.110</td>\n      <td>565.16</td>\n    </tr>\n    <tr>\n      <th>9</th>\n      <td>20100228</td>\n      <td>11101</td>\n      <td>43639</td>\n      <td>4001</td>\n      <td>2124</td>\n      <td>8056</td>\n      <td>0.030</td>\n      <td>154.14</td>\n    </tr>\n  </tbody>\n</table>\n</div>"
                    }
                }
            ], 
            "execution_count": 14, 
            "cell_type": "code"
        }, 
        {
            "source": "Find the top 10 employees (by id) by the number of transactions in the `GOSALESDW.EMP_EXPENSE_FACT` table.", 
            "metadata": {}, 
            "cell_type": "markdown"
        }, 
        {
            "metadata": {}, 
            "source": "idadb.ida_query('SELECT EMPLOYEE_KEY, COUNT(*) AS COUNT FROM GOSALESDW.EMP_EXPENSE_FACT GROUP BY EMPLOYEE_KEY ORDER BY COUNT DESC LIMIT 10')", 
            "outputs": [
                {
                    "output_type": "execute_result", 
                    "execution_count": 15, 
                    "metadata": {}, 
                    "data": {
                        "text/plain": "   EMPLOYEE_KEY  COUNT\n0          4112  263.0\n1          4134  263.0\n2          4135  261.0\n3          4019  260.0\n4          4368  260.0\n5          4053  260.0\n6          4016  260.0\n7          4129  259.0\n8          4480  259.0\n9          4020  258.0", 
                        "text/html": "<div>\n<table border=\"1\" class=\"dataframe\">\n  <thead>\n    <tr style=\"text-align: right;\">\n      <th></th>\n      <th>EMPLOYEE_KEY</th>\n      <th>COUNT</th>\n    </tr>\n  </thead>\n  <tbody>\n    <tr>\n      <th>0</th>\n      <td>4112</td>\n      <td>263.0</td>\n    </tr>\n    <tr>\n      <th>1</th>\n      <td>4134</td>\n      <td>263.0</td>\n    </tr>\n    <tr>\n      <th>2</th>\n      <td>4135</td>\n      <td>261.0</td>\n    </tr>\n    <tr>\n      <th>3</th>\n      <td>4019</td>\n      <td>260.0</td>\n    </tr>\n    <tr>\n      <th>4</th>\n      <td>4368</td>\n      <td>260.0</td>\n    </tr>\n    <tr>\n      <th>5</th>\n      <td>4053</td>\n      <td>260.0</td>\n    </tr>\n    <tr>\n      <th>6</th>\n      <td>4016</td>\n      <td>260.0</td>\n    </tr>\n    <tr>\n      <th>7</th>\n      <td>4129</td>\n      <td>259.0</td>\n    </tr>\n    <tr>\n      <th>8</th>\n      <td>4480</td>\n      <td>259.0</td>\n    </tr>\n    <tr>\n      <th>9</th>\n      <td>4020</td>\n      <td>258.0</td>\n    </tr>\n  </tbody>\n</table>\n</div>"
                    }
                }
            ], 
            "execution_count": 15, 
            "cell_type": "code"
        }, 
        {
            "source": "## Explore the trafficking data\n__Time to apply what you've learned!__\n\nComplete the tasks that are commented in the code blocks.  If you get stuck, check out the hints.  If you're still stuck, read the solution.  If you have any questions, feel free to ask.", 
            "metadata": {}, 
            "cell_type": "markdown"
        }, 
        {
            "metadata": {}, 
            "source": "# Create a variable called `trafficking_table` and set it to the name of the trafficking table in your dashDB instance, for example:\n# trafficking_table = 'DASH1234.FEMALE_TRAFFICKING'\n\ntrafficking_table = '{}.FEMALE_HUMAN_TRAFFICKING'.format(credentials_1['username']).upper()\n\nidadb.exists_table_or_view(trafficking_table)\n\n# The output of this block should be:\n# True", 
            "outputs": [
                {
                    "output_type": "execute_result", 
                    "execution_count": 17, 
                    "metadata": {}, 
                    "data": {
                        "text/plain": "True"
                    }
                }
            ], 
            "execution_count": 17, 
            "cell_type": "code"
        }, 
        {
            "source": "<div class=\"panel-group\" id=\"accordion-10\">\n  <div class=\"panel panel-default\">\n    <div class=\"panel-heading\">\n      <h4 class=\"panel-title\"><a data-toggle=\"collapse\" data-parent=\"#accordion-10\" href=\"#collapse1-10\">Hint 1</a></h4>\n    </div>\n    <div id=\"collapse1-10\" class=\"panel-collapse collapse\">\n      <div class=\"panel-body\">\n      \nThe table schema and name can be found [here](#Use-a-dataframe-to-read-and-manipulate-tables).\n      \n      </div>\n    </div>\n  </div>\n</div>", 
            "metadata": {}, 
            "cell_type": "markdown"
        }, 
        {
            "metadata": {}, 
            "source": "# Create an IdaDataFrame called trafficking_df with the trafficking data and determine the shape of the table using the shape atribute of the trafficking_df instance\n\ntrafficking_df = IdaDataFrame(idadb, trafficking_table)\n\nprint(trafficking_df.shape)\ntrafficking_df.dtypes", 
            "outputs": [
                {
                    "name": "stdout", 
                    "output_type": "stream", 
                    "text": "(1085, 28)\n"
                }, 
                {
                    "output_type": "execute_result", 
                    "execution_count": 18, 
                    "metadata": {}, 
                    "data": {
                        "text/plain": "                                TYPENAME\nCOLUMN_0                        SMALLINT\nVETTING_LEVEL                   SMALLINT\nDESCRIPTION                      VARCHAR\nVETTING_LEVEL_PREDICTION        SMALLINT\nALGORITHM_NAME                   VARCHAR\nALT_NAME                         VARCHAR\nGENDER                           VARCHAR\nBIRTH_DATE                          DATE\nBIRTH_COUNTRY                    VARCHAR\nBIRTH_COUNTRY_CODE               VARCHAR\nOCCUPATION                       VARCHAR\nALT_ADDRESS                      VARCHAR\nALT_SSN                          VARCHAR\nALT_PASSPORT_NUMBER              INTEGER\nPASSPORT_COUNTRY                 VARCHAR\nPASSPORT_COUNTRY_CODE            VARCHAR\nCOUNTRIES_VISITED                VARCHAR\nCOUNTRIES_VISITED_COUNT         SMALLINT\nARRIVAL_AIRPORT_COUNTRY_CODE     VARCHAR\nARRIVAL_AIRPORT_IATA             VARCHAR\nARRIVAL_AIRPORT_MUNICIPALITY     VARCHAR\nARRIVAL_AIRPORT_REGION           VARCHAR\nDEPARTURE_AIRPORT_COUNTRY_CODE   VARCHAR\nDEPARTURE_AIRPORT_IATA           VARCHAR\nDEPARTURE_AIRPORT_MUNICIPALITY   VARCHAR\nDEPARTURE_AIRPORT_REGION         VARCHAR\nUUID                             VARCHAR\nAGE                             SMALLINT", 
                        "text/html": "<div>\n<table border=\"1\" class=\"dataframe\">\n  <thead>\n    <tr style=\"text-align: right;\">\n      <th></th>\n      <th>TYPENAME</th>\n    </tr>\n  </thead>\n  <tbody>\n    <tr>\n      <th>COLUMN_0</th>\n      <td>SMALLINT</td>\n    </tr>\n    <tr>\n      <th>VETTING_LEVEL</th>\n      <td>SMALLINT</td>\n    </tr>\n    <tr>\n      <th>DESCRIPTION</th>\n      <td>VARCHAR</td>\n    </tr>\n    <tr>\n      <th>VETTING_LEVEL_PREDICTION</th>\n      <td>SMALLINT</td>\n    </tr>\n    <tr>\n      <th>ALGORITHM_NAME</th>\n      <td>VARCHAR</td>\n    </tr>\n    <tr>\n      <th>ALT_NAME</th>\n      <td>VARCHAR</td>\n    </tr>\n    <tr>\n      <th>GENDER</th>\n      <td>VARCHAR</td>\n    </tr>\n    <tr>\n      <th>BIRTH_DATE</th>\n      <td>DATE</td>\n    </tr>\n    <tr>\n      <th>BIRTH_COUNTRY</th>\n      <td>VARCHAR</td>\n    </tr>\n    <tr>\n      <th>BIRTH_COUNTRY_CODE</th>\n      <td>VARCHAR</td>\n    </tr>\n    <tr>\n      <th>OCCUPATION</th>\n      <td>VARCHAR</td>\n    </tr>\n    <tr>\n      <th>ALT_ADDRESS</th>\n      <td>VARCHAR</td>\n    </tr>\n    <tr>\n      <th>ALT_SSN</th>\n      <td>VARCHAR</td>\n    </tr>\n    <tr>\n      <th>ALT_PASSPORT_NUMBER</th>\n      <td>INTEGER</td>\n    </tr>\n    <tr>\n      <th>PASSPORT_COUNTRY</th>\n      <td>VARCHAR</td>\n    </tr>\n    <tr>\n      <th>PASSPORT_COUNTRY_CODE</th>\n      <td>VARCHAR</td>\n    </tr>\n    <tr>\n      <th>COUNTRIES_VISITED</th>\n      <td>VARCHAR</td>\n    </tr>\n    <tr>\n      <th>COUNTRIES_VISITED_COUNT</th>\n      <td>SMALLINT</td>\n    </tr>\n    <tr>\n      <th>ARRIVAL_AIRPORT_COUNTRY_CODE</th>\n      <td>VARCHAR</td>\n    </tr>\n    <tr>\n      <th>ARRIVAL_AIRPORT_IATA</th>\n      <td>VARCHAR</td>\n    </tr>\n    <tr>\n      <th>ARRIVAL_AIRPORT_MUNICIPALITY</th>\n      <td>VARCHAR</td>\n    </tr>\n    <tr>\n      <th>ARRIVAL_AIRPORT_REGION</th>\n      <td>VARCHAR</td>\n    </tr>\n    <tr>\n      <th>DEPARTURE_AIRPORT_COUNTRY_CODE</th>\n      <td>VARCHAR</td>\n    </tr>\n    <tr>\n      <th>DEPARTURE_AIRPORT_IATA</th>\n      <td>VARCHAR</td>\n    </tr>\n    <tr>\n      <th>DEPARTURE_AIRPORT_MUNICIPALITY</th>\n      <td>VARCHAR</td>\n    </tr>\n    <tr>\n      <th>DEPARTURE_AIRPORT_REGION</th>\n      <td>VARCHAR</td>\n    </tr>\n    <tr>\n      <th>UUID</th>\n      <td>VARCHAR</td>\n    </tr>\n    <tr>\n      <th>AGE</th>\n      <td>SMALLINT</td>\n    </tr>\n  </tbody>\n</table>\n</div>"
                    }
                }
            ], 
            "execution_count": 18, 
            "cell_type": "code"
        }, 
        {
            "source": "<div class=\"panel-group\" id=\"accordion-11\">\n  <div class=\"panel panel-default\">\n    <div class=\"panel-heading\">\n      <h4 class=\"panel-title\"><a data-toggle=\"collapse\" data-parent=\"#accordion-11\" href=\"#collapse1-11\">Hint 1</a></h4>\n    </div>\n    <div id=\"collapse1-11\" class=\"panel-collapse collapse\">\n      <div class=\"panel-body\">\n      \nIt's similar to the code:\n<pre>\nidadf = IdaDataFrame(idadb, 'GOSALESDW.EMP_EXPENSE_FACT')\n</pre>\n      \n      </div>\n    </div>\n  </div>\n  <div class=\"panel panel-default\">\n    <div class=\"panel-heading\">\n      <h4 class=\"panel-title\"><a data-toggle=\"collapse\" data-parent=\"#accordion-11\" href=\"#collapse2-11\">Solution</a></h4>\n    </div>\n    <div id=\"collapse2-11\" class=\"panel-collapse collapse\">\n      <div class=\"panel-body\">\n<pre>\ntrafficking_df = IdaDataFrame(idadb, trafficking_table)\n</pre>\n      </div>\n    </div>\n  </div>\n</div>\n", 
            "metadata": {}, 
            "cell_type": "markdown"
        }, 
        {
            "metadata": {}, 
            "source": "# Show the top 5 records from the table using a method of the IdaDataFrame or alternatively via a SQL query using the ida_query method of the idadb instance\n\ntrafficking_df.head()", 
            "outputs": [
                {
                    "output_type": "execute_result", 
                    "execution_count": 19, 
                    "metadata": {}, 
                    "data": {
                        "text/plain": "   COLUMN_0  VETTING_LEVEL DESCRIPTION  VETTING_LEVEL_PREDICTION  \\\n0         1            100          NA                        30   \n1         2             30          NA                        30   \n2         3            100          NA                        30   \n3         4            100          NA                        30   \n4         5             30          NA                        30   \n\n  ALGORITHM_NAME                  ALT_NAME GENDER  BIRTH_DATE BIRTH_COUNTRY  \\\n0  DECISION_TREE           Kathleen Bailey      F  1985-11-27         Ghana   \n1  DECISION_TREE             Kelly Robbins      F  1971-01-17      Pakistan   \n2  DECISION_TREE             Linda Stewart      F  1997-04-15         Ghana   \n3  DECISION_TREE  Stacey Courtney Gonzalez      F  1984-03-27         Ghana   \n4  DECISION_TREE        Erika Patie Fowler      F  1998-06-18         Ghana   \n\n  BIRTH_COUNTRY_CODE ... ARRIVAL_AIRPORT_COUNTRY_CODE ARRIVAL_AIRPORT_IATA  \\\n0                 GH ...                           US                  BMI   \n1                 PK ...                           US                  CLE   \n2                 GH ...                           US                  TPA   \n3                 GH ...                           US                  TOL   \n4                 GH ...                           US                  FWA   \n\n  ARRIVAL_AIRPORT_MUNICIPALITY  ARRIVAL_AIRPORT_REGION  \\\n0           Bloomington/Normal                   US-IL   \n1                    Cleveland                   US-OH   \n2                        Tampa                   US-FL   \n3                       Toledo                   US-OH   \n4                   Fort Wayne                   US-IN   \n\n  DEPARTURE_AIRPORT_COUNTRY_CODE DEPARTURE_AIRPORT_IATA  \\\n0                             AE                    AUH   \n1                             UA                    KBP   \n2                             RU                    KJA   \n3                             RU                    AER   \n4                             IE                    ORK   \n\n  DEPARTURE_AIRPORT_MUNICIPALITY  DEPARTURE_AIRPORT_REGION  \\\n0                      Abu Dhabi                     AE-AZ   \n1                           Kiev                     UA-32   \n2                    Krasnoyarsk                    RU-KYA   \n3                          Sochi                    RU-KDA   \n4                           Cork                      IE-C   \n\n                                   UUID AGE  \n0  81d28245-a6d4-40e3-bac0-df61cc6625ce  31  \n1  b4d817b3-2154-4351-b0e3-bcd736a76bf5  46  \n2  a52a6477-1f5e-4b09-a5e3-f76333a7eb10  19  \n3  5fcbbf15-8268-4306-ac26-406c2faae251  32  \n4  6d1fe59a-6828-4bc5-9ded-2194aa238461  18  \n\n[5 rows x 28 columns]", 
                        "text/html": "<div>\n<table border=\"1\" class=\"dataframe\">\n  <thead>\n    <tr style=\"text-align: right;\">\n      <th></th>\n      <th>COLUMN_0</th>\n      <th>VETTING_LEVEL</th>\n      <th>DESCRIPTION</th>\n      <th>VETTING_LEVEL_PREDICTION</th>\n      <th>ALGORITHM_NAME</th>\n      <th>ALT_NAME</th>\n      <th>GENDER</th>\n      <th>BIRTH_DATE</th>\n      <th>BIRTH_COUNTRY</th>\n      <th>BIRTH_COUNTRY_CODE</th>\n      <th>...</th>\n      <th>ARRIVAL_AIRPORT_COUNTRY_CODE</th>\n      <th>ARRIVAL_AIRPORT_IATA</th>\n      <th>ARRIVAL_AIRPORT_MUNICIPALITY</th>\n      <th>ARRIVAL_AIRPORT_REGION</th>\n      <th>DEPARTURE_AIRPORT_COUNTRY_CODE</th>\n      <th>DEPARTURE_AIRPORT_IATA</th>\n      <th>DEPARTURE_AIRPORT_MUNICIPALITY</th>\n      <th>DEPARTURE_AIRPORT_REGION</th>\n      <th>UUID</th>\n      <th>AGE</th>\n    </tr>\n  </thead>\n  <tbody>\n    <tr>\n      <th>0</th>\n      <td>1</td>\n      <td>100</td>\n      <td>NA</td>\n      <td>30</td>\n      <td>DECISION_TREE</td>\n      <td>Kathleen Bailey</td>\n      <td>F</td>\n      <td>1985-11-27</td>\n      <td>Ghana</td>\n      <td>GH</td>\n      <td>...</td>\n      <td>US</td>\n      <td>BMI</td>\n      <td>Bloomington/Normal</td>\n      <td>US-IL</td>\n      <td>AE</td>\n      <td>AUH</td>\n      <td>Abu Dhabi</td>\n      <td>AE-AZ</td>\n      <td>81d28245-a6d4-40e3-bac0-df61cc6625ce</td>\n      <td>31</td>\n    </tr>\n    <tr>\n      <th>1</th>\n      <td>2</td>\n      <td>30</td>\n      <td>NA</td>\n      <td>30</td>\n      <td>DECISION_TREE</td>\n      <td>Kelly Robbins</td>\n      <td>F</td>\n      <td>1971-01-17</td>\n      <td>Pakistan</td>\n      <td>PK</td>\n      <td>...</td>\n      <td>US</td>\n      <td>CLE</td>\n      <td>Cleveland</td>\n      <td>US-OH</td>\n      <td>UA</td>\n      <td>KBP</td>\n      <td>Kiev</td>\n      <td>UA-32</td>\n      <td>b4d817b3-2154-4351-b0e3-bcd736a76bf5</td>\n      <td>46</td>\n    </tr>\n    <tr>\n      <th>2</th>\n      <td>3</td>\n      <td>100</td>\n      <td>NA</td>\n      <td>30</td>\n      <td>DECISION_TREE</td>\n      <td>Linda Stewart</td>\n      <td>F</td>\n      <td>1997-04-15</td>\n      <td>Ghana</td>\n      <td>GH</td>\n      <td>...</td>\n      <td>US</td>\n      <td>TPA</td>\n      <td>Tampa</td>\n      <td>US-FL</td>\n      <td>RU</td>\n      <td>KJA</td>\n      <td>Krasnoyarsk</td>\n      <td>RU-KYA</td>\n      <td>a52a6477-1f5e-4b09-a5e3-f76333a7eb10</td>\n      <td>19</td>\n    </tr>\n    <tr>\n      <th>3</th>\n      <td>4</td>\n      <td>100</td>\n      <td>NA</td>\n      <td>30</td>\n      <td>DECISION_TREE</td>\n      <td>Stacey Courtney Gonzalez</td>\n      <td>F</td>\n      <td>1984-03-27</td>\n      <td>Ghana</td>\n      <td>GH</td>\n      <td>...</td>\n      <td>US</td>\n      <td>TOL</td>\n      <td>Toledo</td>\n      <td>US-OH</td>\n      <td>RU</td>\n      <td>AER</td>\n      <td>Sochi</td>\n      <td>RU-KDA</td>\n      <td>5fcbbf15-8268-4306-ac26-406c2faae251</td>\n      <td>32</td>\n    </tr>\n    <tr>\n      <th>4</th>\n      <td>5</td>\n      <td>30</td>\n      <td>NA</td>\n      <td>30</td>\n      <td>DECISION_TREE</td>\n      <td>Erika Patie Fowler</td>\n      <td>F</td>\n      <td>1998-06-18</td>\n      <td>Ghana</td>\n      <td>GH</td>\n      <td>...</td>\n      <td>US</td>\n      <td>FWA</td>\n      <td>Fort Wayne</td>\n      <td>US-IN</td>\n      <td>IE</td>\n      <td>ORK</td>\n      <td>Cork</td>\n      <td>IE-C</td>\n      <td>6d1fe59a-6828-4bc5-9ded-2194aa238461</td>\n      <td>18</td>\n    </tr>\n  </tbody>\n</table>\n<p>5 rows \u00d7 28 columns</p>\n</div>"
                    }
                }
            ], 
            "execution_count": 19, 
            "cell_type": "code"
        }, 
        {
            "source": "<div class=\"panel-group\" id=\"accordion-12\">\n  <div class=\"panel panel-default\">\n    <div class=\"panel-heading\">\n      <h4 class=\"panel-title\"><a data-toggle=\"collapse\" data-parent=\"#accordion-12\" href=\"#collapse1-12\">Hint 1</a></h4>\n    </div>\n    <div id=\"collapse1-12\" class=\"panel-collapse collapse\">\n      <div class=\"panel-body\">\n      \nHeads or tails?\n      \n      </div>\n    </div>\n  </div>\n  <div class=\"panel panel-default\">\n    <div class=\"panel-heading\">\n      <h4 class=\"panel-title\"><a data-toggle=\"collapse\" data-parent=\"#accordion-12\" href=\"#collapse2-12\">Solution 1</a></h4>\n    </div>\n    <div id=\"collapse2-12\" class=\"panel-collapse collapse\">\n      <div class=\"panel-body\">\n      Heads!\n<pre>\ntrafficking_df.head()\n</pre> \n      </div>\n    </div>\n  </div>\n  <div class=\"panel panel-default\">\n    <div class=\"panel-heading\">\n      <h4 class=\"panel-title\"><a data-toggle=\"collapse\" data-parent=\"#accordion-12\" href=\"#collapse3-12\">Solution 2</a></h4>\n    </div>\n    <div id=\"collapse3-12\" class=\"panel-collapse collapse\">\n      <div class=\"panel-body\">\n      SQL can work as well!  __Note__: The `+` operator used here is a way to concatenate strings in Python.\n<pre>\nidadb.ida_query('SELECT * FROM ' + trafficking_table + ' LIMIT 10')\n</pre>\n      </div>\n    </div>\n  </div>\n</div>\n", 
            "metadata": {}, 
            "cell_type": "markdown"
        }, 
        {
            "metadata": {}, 
            "source": "# Query the trafficking table so that we get the vetting_level and the number of times that vetting_level appears in the trafficking table, ordered by the vetting_level\n\nidadb.ida_query('SELECT VETTING_LEVEL, COUNT(*) AS COUNT FROM ' + trafficking_table + ' GROUP BY VETTING_LEVEL ORDER BY VETTING_LEVEL')", 
            "outputs": [
                {
                    "output_type": "execute_result", 
                    "execution_count": 20, 
                    "metadata": {}, 
                    "data": {
                        "text/plain": "   VETTING_LEVEL  COUNT\n0             10   42.0\n1             20   40.0\n2             30   96.0\n3            100  907.0", 
                        "text/html": "<div>\n<table border=\"1\" class=\"dataframe\">\n  <thead>\n    <tr style=\"text-align: right;\">\n      <th></th>\n      <th>VETTING_LEVEL</th>\n      <th>COUNT</th>\n    </tr>\n  </thead>\n  <tbody>\n    <tr>\n      <th>0</th>\n      <td>10</td>\n      <td>42.0</td>\n    </tr>\n    <tr>\n      <th>1</th>\n      <td>20</td>\n      <td>40.0</td>\n    </tr>\n    <tr>\n      <th>2</th>\n      <td>30</td>\n      <td>96.0</td>\n    </tr>\n    <tr>\n      <th>3</th>\n      <td>100</td>\n      <td>907.0</td>\n    </tr>\n  </tbody>\n</table>\n</div>"
                    }
                }
            ], 
            "execution_count": 20, 
            "cell_type": "code"
        }, 
        {
            "source": "\n<div class=\"panel-group\" id=\"accordion-13\">\n  <div class=\"panel panel-default\">\n    <div class=\"panel-heading\">\n      <h4 class=\"panel-title\"><a data-toggle=\"collapse\" data-parent=\"#accordion-13\" href=\"#collapse1-13\">Hint 1</a></h4>\n    </div>\n    <div id=\"collapse1-13\" class=\"panel-collapse collapse\">\n      <div class=\"panel-body\">\n      \nIt is similar to:\n\n<pre>\nidadb.ida_query('SELECT EMPLOYEE_KEY, COUNT(*) AS COUNT FROM GOSALESDW.EMP_EXPENSE_FACT GROUP BY EMPLOYEE_KEY ORDER BY COUNT DESC LIMIT 10')\n</pre>\n      \n      </div>\n    </div>\n  </div>\n  <div class=\"panel panel-default\">\n    <div class=\"panel-heading\">\n      <h4 class=\"panel-title\"><a data-toggle=\"collapse\" data-parent=\"#accordion-13\" href=\"#collapse2-13\">Hint 2</a></h4>\n    </div>\n    <div id=\"collapse2-13\" class=\"panel-collapse collapse\">\n      <div class=\"panel-body\">\n      \nThe SQL query is:\n\n<pre>\n'SELECT VETTING_LEVEL, COUNT(*) AS COUNT FROM ' + trafficking_table + ' GROUP BY VETTING_LEVEL ORDER BY VETTING_LEVEL'\n</pre>\n      \n      </div>\n    </div>\n  </div>\n  <div class=\"panel panel-default\">\n    <div class=\"panel-heading\">\n      <h4 class=\"panel-title\"><a data-toggle=\"collapse\" data-parent=\"#accordion-13\" href=\"#collapse3-13\">Solution</a></h4>\n    </div>\n    <div id=\"collapse3-13\" class=\"panel-collapse collapse\">\n      <div class=\"panel-body\">\n      \n<pre>\nidadb.ida_query('SELECT VETTING_LEVEL, COUNT(*) AS COUNT FROM ' + trafficking_table + ' GROUP BY VETTING_LEVEL ORDER BY VETTING_LEVEL')\n</pre>\n\n      </div>\n    </div>\n  </div>\n</div>\n", 
            "metadata": {}, 
            "cell_type": "markdown"
        }, 
        {
            "source": "## Close the database connection\n\nTo ensure expected behaviors, IdaDataBase instances need to be closed.\n\n__Note__: Closing the *IdaDataBase* is equivalent to closing the connection: once the connection is closed, it is no longer possible to use the *IdaDataBase* instance and any *IdaDataFrame* instances that were opened on this connection.", 
            "metadata": {}, 
            "cell_type": "markdown"
        }, 
        {
            "metadata": {
                "collapsed": true
            }, 
            "source": "idadb.close()", 
            "outputs": [], 
            "execution_count": null, 
            "cell_type": "code"
        }, 
        {
            "source": "## Summary\n\nThis notebook demonstrated how to establish a JDBC connection to a dashDB (or DB2) database from Python, work with data frames and explore the data using SQL and data frame object attributes and methods.", 
            "metadata": {}, 
            "cell_type": "markdown"
        }, 
        {
            "source": "## Take it farther\n### Free courses on <a href=\"https://bigdatauniversity.com/courses/?utm_source=tutorial-dashdb-python&utm_medium=github&utm_campaign=bdu/\" rel=\"noopener noreferrer\" target=\"_blank\">Big Data University</a>: <a href=\"https://bigdatauniversity.com/courses/?utm_source=tutorial-dashdb-python&utm_medium=github&utm_campaign=bdu\" rel=\"noopener noreferrer\" target=\"_blank\"><img src = \"https://ibm.box.com/shared/static/xomeu7dacwufkoawbg3owc8wzuezltn6.png\" width=600px> </a>", 
            "metadata": {}, 
            "cell_type": "markdown"
        }
    ]
}